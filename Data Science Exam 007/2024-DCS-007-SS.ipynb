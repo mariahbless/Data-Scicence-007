{
 "cells": [
  {
   "cell_type": "markdown",
   "id": "b305f35b-e480-48d9-80d5-a66a3896a9c8",
   "metadata": {},
   "source": [
    "# Question 1 (Variation and Variability)"
   ]
  },
  {
   "cell_type": "code",
   "execution_count": 52,
   "id": "a0715cd7-683d-4b45-bd70-8cc01a339298",
   "metadata": {},
   "outputs": [],
   "source": [
    "import pandas as pd"
   ]
  },
  {
   "cell_type": "markdown",
   "id": "600a47c2-9b8d-49a4-93be-742c0e8066d9",
   "metadata": {},
   "source": [
    "# a)"
   ]
  },
  {
   "cell_type": "markdown",
   "id": "5e08c3ba-b174-4718-bd08-cdbb7598b3e2",
   "metadata": {},
   "source": [
    "#The typical yearly income for the 4365"
   ]
  },
  {
   "cell_type": "code",
   "execution_count": 120,
   "id": "12132a00-a82b-4fcc-9e05-98390e04d918",
   "metadata": {},
   "outputs": [
    {
     "data": {
      "text/html": [
       "<div>\n",
       "<style scoped>\n",
       "    .dataframe tbody tr th:only-of-type {\n",
       "        vertical-align: middle;\n",
       "    }\n",
       "\n",
       "    .dataframe tbody tr th {\n",
       "        vertical-align: top;\n",
       "    }\n",
       "\n",
       "    .dataframe thead th {\n",
       "        text-align: right;\n",
       "    }\n",
       "</style>\n",
       "<table border=\"1\" class=\"dataframe\">\n",
       "  <thead>\n",
       "    <tr style=\"text-align: right;\">\n",
       "      <th></th>\n",
       "      <th>Age</th>\n",
       "      <th>Sex</th>\n",
       "      <th>Marital_status</th>\n",
       "      <th>Number_of_children</th>\n",
       "      <th>Family_size</th>\n",
       "      <th>Education-degree_recode</th>\n",
       "      <th>Education-degree_recode 2</th>\n",
       "      <th>Education</th>\n",
       "      <th>Race_ethnicity-multi_recode</th>\n",
       "      <th>Immigrate-year</th>\n",
       "      <th>Birthplace_recode</th>\n",
       "      <th>Speaks_English</th>\n",
       "      <th>Employment_status</th>\n",
       "      <th>Income-wages</th>\n",
       "      <th>Region_recode</th>\n",
       "      <th>Region-division_recode</th>\n",
       "      <th>Moved</th>\n",
       "      <th>Year</th>\n",
       "      <th>state</th>\n",
       "    </tr>\n",
       "  </thead>\n",
       "  <tbody>\n",
       "    <tr>\n",
       "      <th>0</th>\n",
       "      <td>30</td>\n",
       "      <td>Male</td>\n",
       "      <td>Married, spouse present</td>\n",
       "      <td>2</td>\n",
       "      <td>4</td>\n",
       "      <td>Master’s or professional degree</td>\n",
       "      <td>Master or professional degree</td>\n",
       "      <td>Master or PhD or professional degree</td>\n",
       "      <td>Non-Hispanic White</td>\n",
       "      <td>0</td>\n",
       "      <td>U.S. state, territory, or outlying region</td>\n",
       "      <td>Yes, speaks only English</td>\n",
       "      <td>Employed</td>\n",
       "      <td>63000</td>\n",
       "      <td>South</td>\n",
       "      <td>East South Central</td>\n",
       "      <td>Same house</td>\n",
       "      <td>2020</td>\n",
       "      <td>Tennessee</td>\n",
       "    </tr>\n",
       "    <tr>\n",
       "      <th>1</th>\n",
       "      <td>28</td>\n",
       "      <td>Female</td>\n",
       "      <td>Married, spouse present</td>\n",
       "      <td>1 child present</td>\n",
       "      <td>3</td>\n",
       "      <td>Master’s or professional degree</td>\n",
       "      <td>Master or professional degree</td>\n",
       "      <td>Master or PhD or professional degree</td>\n",
       "      <td>Non-Hispanic White</td>\n",
       "      <td>0</td>\n",
       "      <td>U.S. state, territory, or outlying region</td>\n",
       "      <td>Yes, speaks only English</td>\n",
       "      <td>Employed</td>\n",
       "      <td>46000</td>\n",
       "      <td>South</td>\n",
       "      <td>East South Central</td>\n",
       "      <td>Same house</td>\n",
       "      <td>2020</td>\n",
       "      <td>Tennessee</td>\n",
       "    </tr>\n",
       "    <tr>\n",
       "      <th>2</th>\n",
       "      <td>34</td>\n",
       "      <td>Male</td>\n",
       "      <td>Married, spouse present</td>\n",
       "      <td>1 child present</td>\n",
       "      <td>3</td>\n",
       "      <td>Bachelor’s degree</td>\n",
       "      <td>Bachelor degree</td>\n",
       "      <td>Associate or Bachelor degree</td>\n",
       "      <td>Non-Hispanic White</td>\n",
       "      <td>0</td>\n",
       "      <td>U.S. state, territory, or outlying region</td>\n",
       "      <td>Yes, speaks only English</td>\n",
       "      <td>Employed</td>\n",
       "      <td>45000</td>\n",
       "      <td>South</td>\n",
       "      <td>East South Central</td>\n",
       "      <td>Same house</td>\n",
       "      <td>2020</td>\n",
       "      <td>Tennessee</td>\n",
       "    </tr>\n",
       "    <tr>\n",
       "      <th>3</th>\n",
       "      <td>58</td>\n",
       "      <td>Female</td>\n",
       "      <td>Married, spouse absent</td>\n",
       "      <td>1 child present</td>\n",
       "      <td>2</td>\n",
       "      <td>1 or more years of college, no degree</td>\n",
       "      <td>1 or more years of college, no degree</td>\n",
       "      <td>1 or more years of college, no degree</td>\n",
       "      <td>Non-Hispanic White</td>\n",
       "      <td>0</td>\n",
       "      <td>U.S. state, territory, or outlying region</td>\n",
       "      <td>Yes, speaks only English</td>\n",
       "      <td>Employed</td>\n",
       "      <td>55000</td>\n",
       "      <td>South</td>\n",
       "      <td>East South Central</td>\n",
       "      <td>Same house</td>\n",
       "      <td>2020</td>\n",
       "      <td>Tennessee</td>\n",
       "    </tr>\n",
       "    <tr>\n",
       "      <th>4</th>\n",
       "      <td>39</td>\n",
       "      <td>Male</td>\n",
       "      <td>Never married/single</td>\n",
       "      <td>0 children present</td>\n",
       "      <td>1</td>\n",
       "      <td>Bachelor’s degree</td>\n",
       "      <td>Bachelor degree</td>\n",
       "      <td>Associate or Bachelor degree</td>\n",
       "      <td>Non-Hispanic White</td>\n",
       "      <td>0</td>\n",
       "      <td>U.S. state, territory, or outlying region</td>\n",
       "      <td>Yes, speaks only English</td>\n",
       "      <td>Employed</td>\n",
       "      <td>12000</td>\n",
       "      <td>South</td>\n",
       "      <td>East South Central</td>\n",
       "      <td>Same house</td>\n",
       "      <td>2020</td>\n",
       "      <td>Tennessee</td>\n",
       "    </tr>\n",
       "    <tr>\n",
       "      <th>...</th>\n",
       "      <td>...</td>\n",
       "      <td>...</td>\n",
       "      <td>...</td>\n",
       "      <td>...</td>\n",
       "      <td>...</td>\n",
       "      <td>...</td>\n",
       "      <td>...</td>\n",
       "      <td>...</td>\n",
       "      <td>...</td>\n",
       "      <td>...</td>\n",
       "      <td>...</td>\n",
       "      <td>...</td>\n",
       "      <td>...</td>\n",
       "      <td>...</td>\n",
       "      <td>...</td>\n",
       "      <td>...</td>\n",
       "      <td>...</td>\n",
       "      <td>...</td>\n",
       "      <td>...</td>\n",
       "    </tr>\n",
       "    <tr>\n",
       "      <th>4360</th>\n",
       "      <td>67</td>\n",
       "      <td>Male</td>\n",
       "      <td>Married, spouse present</td>\n",
       "      <td>0 children present</td>\n",
       "      <td>2</td>\n",
       "      <td>Bachelor’s degree</td>\n",
       "      <td>Bachelor degree</td>\n",
       "      <td>Associate or Bachelor degree</td>\n",
       "      <td>Non-Hispanic White</td>\n",
       "      <td>0</td>\n",
       "      <td>U.S. state, territory, or outlying region</td>\n",
       "      <td>Yes, speaks only English</td>\n",
       "      <td>Employed</td>\n",
       "      <td>40000</td>\n",
       "      <td>Midwest</td>\n",
       "      <td>West North Central</td>\n",
       "      <td>Same house</td>\n",
       "      <td>2020</td>\n",
       "      <td>North Dakota</td>\n",
       "    </tr>\n",
       "    <tr>\n",
       "      <th>4361</th>\n",
       "      <td>48</td>\n",
       "      <td>Male</td>\n",
       "      <td>Married, spouse present</td>\n",
       "      <td>4</td>\n",
       "      <td>6</td>\n",
       "      <td>Associate’s degree</td>\n",
       "      <td>Associate degree</td>\n",
       "      <td>Associate or Bachelor degree</td>\n",
       "      <td>Non-Hispanic White</td>\n",
       "      <td>0</td>\n",
       "      <td>U.S. state, territory, or outlying region</td>\n",
       "      <td>Yes, speaks only English</td>\n",
       "      <td>Employed</td>\n",
       "      <td>65000</td>\n",
       "      <td>Midwest</td>\n",
       "      <td>West North Central</td>\n",
       "      <td>Same house</td>\n",
       "      <td>2020</td>\n",
       "      <td>North Dakota</td>\n",
       "    </tr>\n",
       "    <tr>\n",
       "      <th>4362</th>\n",
       "      <td>33</td>\n",
       "      <td>Male</td>\n",
       "      <td>Married, spouse absent</td>\n",
       "      <td>0 children present</td>\n",
       "      <td>1</td>\n",
       "      <td>Associate’s degree</td>\n",
       "      <td>Associate degree</td>\n",
       "      <td>Associate or Bachelor degree</td>\n",
       "      <td>Non-Hispanic Black</td>\n",
       "      <td>2017</td>\n",
       "      <td>Africa</td>\n",
       "      <td>Yes, speaks very well</td>\n",
       "      <td>Employed</td>\n",
       "      <td>45000</td>\n",
       "      <td>Midwest</td>\n",
       "      <td>West North Central</td>\n",
       "      <td>Same house</td>\n",
       "      <td>2020</td>\n",
       "      <td>North Dakota</td>\n",
       "    </tr>\n",
       "    <tr>\n",
       "      <th>4363</th>\n",
       "      <td>22</td>\n",
       "      <td>Female</td>\n",
       "      <td>Never married/single</td>\n",
       "      <td>0 children present</td>\n",
       "      <td>2</td>\n",
       "      <td>1 or more years of college, no degree</td>\n",
       "      <td>1 or more years of college, no degree</td>\n",
       "      <td>1 or more years of college, no degree</td>\n",
       "      <td>Non-Hispanic White</td>\n",
       "      <td>0</td>\n",
       "      <td>U.S. state, territory, or outlying region</td>\n",
       "      <td>Yes, speaks only English</td>\n",
       "      <td>Employed</td>\n",
       "      <td>500</td>\n",
       "      <td>Midwest</td>\n",
       "      <td>West North Central</td>\n",
       "      <td>Same house</td>\n",
       "      <td>2020</td>\n",
       "      <td>North Dakota</td>\n",
       "    </tr>\n",
       "    <tr>\n",
       "      <th>4364</th>\n",
       "      <td>49</td>\n",
       "      <td>Female</td>\n",
       "      <td>Married, spouse present</td>\n",
       "      <td>2</td>\n",
       "      <td>4</td>\n",
       "      <td>Master’s or professional degree</td>\n",
       "      <td>Master or professional degree</td>\n",
       "      <td>Master or PhD or professional degree</td>\n",
       "      <td>Non-Hispanic White</td>\n",
       "      <td>0</td>\n",
       "      <td>U.S. state, territory, or outlying region</td>\n",
       "      <td>Yes, speaks only English</td>\n",
       "      <td>Employed</td>\n",
       "      <td>498000</td>\n",
       "      <td>Midwest</td>\n",
       "      <td>West North Central</td>\n",
       "      <td>Same house</td>\n",
       "      <td>2020</td>\n",
       "      <td>North Dakota</td>\n",
       "    </tr>\n",
       "  </tbody>\n",
       "</table>\n",
       "<p>4365 rows × 19 columns</p>\n",
       "</div>"
      ],
      "text/plain": [
       "      Age     Sex           Marital_status  Number_of_children  Family_size  \\\n",
       "0      30    Male  Married, spouse present                   2            4   \n",
       "1      28  Female  Married, spouse present     1 child present            3   \n",
       "2      34    Male  Married, spouse present     1 child present            3   \n",
       "3      58  Female   Married, spouse absent     1 child present            2   \n",
       "4      39    Male     Never married/single  0 children present            1   \n",
       "...   ...     ...                      ...                 ...          ...   \n",
       "4360   67    Male  Married, spouse present  0 children present            2   \n",
       "4361   48    Male  Married, spouse present                   4            6   \n",
       "4362   33    Male   Married, spouse absent  0 children present            1   \n",
       "4363   22  Female     Never married/single  0 children present            2   \n",
       "4364   49  Female  Married, spouse present                   2            4   \n",
       "\n",
       "                    Education-degree_recode  \\\n",
       "0           Master’s or professional degree   \n",
       "1           Master’s or professional degree   \n",
       "2                         Bachelor’s degree   \n",
       "3     1 or more years of college, no degree   \n",
       "4                         Bachelor’s degree   \n",
       "...                                     ...   \n",
       "4360                      Bachelor’s degree   \n",
       "4361                     Associate’s degree   \n",
       "4362                     Associate’s degree   \n",
       "4363  1 or more years of college, no degree   \n",
       "4364        Master’s or professional degree   \n",
       "\n",
       "                  Education-degree_recode 2  \\\n",
       "0             Master or professional degree   \n",
       "1             Master or professional degree   \n",
       "2                           Bachelor degree   \n",
       "3     1 or more years of college, no degree   \n",
       "4                           Bachelor degree   \n",
       "...                                     ...   \n",
       "4360                        Bachelor degree   \n",
       "4361                       Associate degree   \n",
       "4362                       Associate degree   \n",
       "4363  1 or more years of college, no degree   \n",
       "4364          Master or professional degree   \n",
       "\n",
       "                                  Education Race_ethnicity-multi_recode  \\\n",
       "0      Master or PhD or professional degree          Non-Hispanic White   \n",
       "1      Master or PhD or professional degree          Non-Hispanic White   \n",
       "2              Associate or Bachelor degree          Non-Hispanic White   \n",
       "3     1 or more years of college, no degree          Non-Hispanic White   \n",
       "4              Associate or Bachelor degree          Non-Hispanic White   \n",
       "...                                     ...                         ...   \n",
       "4360           Associate or Bachelor degree          Non-Hispanic White   \n",
       "4361           Associate or Bachelor degree          Non-Hispanic White   \n",
       "4362           Associate or Bachelor degree          Non-Hispanic Black   \n",
       "4363  1 or more years of college, no degree          Non-Hispanic White   \n",
       "4364   Master or PhD or professional degree          Non-Hispanic White   \n",
       "\n",
       "      Immigrate-year                          Birthplace_recode  \\\n",
       "0                  0  U.S. state, territory, or outlying region   \n",
       "1                  0  U.S. state, territory, or outlying region   \n",
       "2                  0  U.S. state, territory, or outlying region   \n",
       "3                  0  U.S. state, territory, or outlying region   \n",
       "4                  0  U.S. state, territory, or outlying region   \n",
       "...              ...                                        ...   \n",
       "4360               0  U.S. state, territory, or outlying region   \n",
       "4361               0  U.S. state, territory, or outlying region   \n",
       "4362            2017                                     Africa   \n",
       "4363               0  U.S. state, territory, or outlying region   \n",
       "4364               0  U.S. state, territory, or outlying region   \n",
       "\n",
       "                Speaks_English Employment_status  Income-wages Region_recode  \\\n",
       "0     Yes, speaks only English          Employed         63000         South   \n",
       "1     Yes, speaks only English          Employed         46000         South   \n",
       "2     Yes, speaks only English          Employed         45000         South   \n",
       "3     Yes, speaks only English          Employed         55000         South   \n",
       "4     Yes, speaks only English          Employed         12000         South   \n",
       "...                        ...               ...           ...           ...   \n",
       "4360  Yes, speaks only English          Employed         40000       Midwest   \n",
       "4361  Yes, speaks only English          Employed         65000       Midwest   \n",
       "4362     Yes, speaks very well          Employed         45000       Midwest   \n",
       "4363  Yes, speaks only English          Employed           500       Midwest   \n",
       "4364  Yes, speaks only English          Employed        498000       Midwest   \n",
       "\n",
       "     Region-division_recode       Moved  Year         state  \n",
       "0        East South Central  Same house  2020     Tennessee  \n",
       "1        East South Central  Same house  2020     Tennessee  \n",
       "2        East South Central  Same house  2020     Tennessee  \n",
       "3        East South Central  Same house  2020     Tennessee  \n",
       "4        East South Central  Same house  2020     Tennessee  \n",
       "...                     ...         ...   ...           ...  \n",
       "4360     West North Central  Same house  2020  North Dakota  \n",
       "4361     West North Central  Same house  2020  North Dakota  \n",
       "4362     West North Central  Same house  2020  North Dakota  \n",
       "4363     West North Central  Same house  2020  North Dakota  \n",
       "4364     West North Central  Same house  2020  North Dakota  \n",
       "\n",
       "[4365 rows x 19 columns]"
      ]
     },
     "execution_count": 120,
     "metadata": {},
     "output_type": "execute_result"
    }
   ],
   "source": [
    "wage_df = pd.read_csv('Wages.csv')  # this command is used to extract dataset into this note book to  allow you perform other task\n",
    "wage_df                                   #  You can use it to return the table data set to this note book\n",
    "                                 # source PANDAS NOTEBOOK"
   ]
  },
  {
   "cell_type": "code",
   "execution_count": 54,
   "id": "c5471719-3761-4c91-84ab-a27560b09873",
   "metadata": {},
   "outputs": [
    {
     "data": {
      "text/plain": [
       "0        63000\n",
       "1        46000\n",
       "2        45000\n",
       "3        55000\n",
       "4        12000\n",
       "         ...  \n",
       "4360     40000\n",
       "4361     65000\n",
       "4362     45000\n",
       "4363       500\n",
       "4364    498000\n",
       "Name: Income-wages, Length: 4365, dtype: int64"
      ]
     },
     "execution_count": 54,
     "metadata": {},
     "output_type": "execute_result"
    }
   ],
   "source": [
    "Income = wage_df['Income-wages']\n",
    "Income          # This command acceses the variable in the column of income wages only\n",
    "                # sorce PANDAS NOTEBOOK"
   ]
  },
  {
   "cell_type": "code",
   "execution_count": 55,
   "id": "a386af03-f749-4484-a11f-e59149be0732",
   "metadata": {},
   "outputs": [
    {
     "name": "stdout",
     "output_type": "stream",
     "text": [
      "<class 'pandas.core.frame.DataFrame'>\n",
      "RangeIndex: 4365 entries, 0 to 4364\n",
      "Data columns (total 19 columns):\n",
      " #   Column                       Non-Null Count  Dtype \n",
      "---  ------                       --------------  ----- \n",
      " 0   Age                          4365 non-null   int64 \n",
      " 1   Sex                          4365 non-null   object\n",
      " 2   Marital_status               4365 non-null   object\n",
      " 3   Number_of_children           4365 non-null   object\n",
      " 4   Family_size                  4365 non-null   int64 \n",
      " 5   Education-degree_recode      4365 non-null   object\n",
      " 6   Education-degree_recode 2    4365 non-null   object\n",
      " 7   Education                    4365 non-null   object\n",
      " 8   Race_ethnicity-multi_recode  4365 non-null   object\n",
      " 9   Immigrate-year               4365 non-null   int64 \n",
      " 10  Birthplace_recode            4365 non-null   object\n",
      " 11  Speaks_English               4365 non-null   object\n",
      " 12  Employment_status            4365 non-null   object\n",
      " 13  Income-wages                 4365 non-null   int64 \n",
      " 14  Region_recode                4365 non-null   object\n",
      " 15  Region-division_recode       4365 non-null   object\n",
      " 16  Moved                        4365 non-null   object\n",
      " 17  Year                         4365 non-null   int64 \n",
      " 18  state                        4365 non-null   object\n",
      "dtypes: int64(5), object(14)\n",
      "memory usage: 648.1+ KB\n",
      "None\n"
     ]
    }
   ],
   "source": [
    "print(wage_df.info())  #Here am accessing the in formation in each coloumn in the dataset provided above\n",
    "                       #The range index and the number of columns is got here"
   ]
  },
  {
   "cell_type": "code",
   "execution_count": 56,
   "id": "57e872ee-7dad-43b7-bc4c-c76024f6da51",
   "metadata": {},
   "outputs": [
    {
     "name": "stdout",
     "output_type": "stream",
     "text": [
      "               Age  Family_size  Immigrate-year   Income-wages    Year\n",
      "count  4365.000000  4365.000000     4365.000000    4365.000000  4365.0\n",
      "mean     41.688889     2.964490      360.903551   58704.164948  2020.0\n",
      "std      14.287954     1.603552      769.040850   68338.061435     0.0\n",
      "min      16.000000     1.000000        0.000000      30.000000  2020.0\n",
      "25%      30.000000     2.000000        0.000000   22000.000000  2020.0\n",
      "50%      41.000000     3.000000        0.000000   41000.000000  2020.0\n",
      "75%      53.000000     4.000000        0.000000   71000.000000  2020.0\n",
      "max      87.000000    14.000000     2020.000000  661000.000000  2020.0\n"
     ]
    }
   ],
   "source": [
    "print(wage_df.describe()) # here am describing the all dataset\n",
    "                         # Finding its mean,std,maximum and minimum data in all the columns\n",
    "                         # source PANDAS NOTEBOOK"
   ]
  },
  {
   "cell_type": "code",
   "execution_count": 57,
   "id": "251c96ec-2993-468c-8872-d32ac65887c9",
   "metadata": {},
   "outputs": [
    {
     "name": "stdout",
     "output_type": "stream",
     "text": [
      "The mean Income is: $58,704.16\n",
      "The median Income is: $41,000.00\n"
     ]
    }
   ],
   "source": [
    "mean_income = wage_df['Income-wages'].mean()  # To find the typical yearly income ,you have to get the mean \n",
    "                                                                   #or the median because it gives it summary\n",
    "median_income = wage_df['Income-wages'].median()\n",
    "print(f\"The mean Income is: ${mean_income:,.2f}\")    # here the command out puts the mean of the yearly income\n",
    "print(f\"The median Income is: ${median_income:,.2f}\")# here the command out puts the median of the yearly income"
   ]
  },
  {
   "cell_type": "markdown",
   "id": "cb5d8b80-6d8b-42a4-bbf5-bc7d389f85fb",
   "metadata": {},
   "source": [
    "# b)"
   ]
  },
  {
   "cell_type": "code",
   "execution_count": 58,
   "id": "44ee0f83-5283-49f6-8620-a3c7b812444b",
   "metadata": {},
   "outputs": [
    {
     "name": "stdout",
     "output_type": "stream",
     "text": [
      "Standard deviation:$68,338.06\n",
      "IQR: $49,000.00\n"
     ]
    }
   ],
   "source": [
    "standard_deviation_income = wage_df['Income-wages'].std()  # to get the variation we use the standard deviation and interquartile range then we compare\n",
    "iqr_income = wage_df['Income-wages'].quantile(0.75) - wage_df['Income-wages'].quantile(0.25)   # IQR = Q3-Q1 \n",
    "print(f\"Standard deviation:${standard_deviation_income:,.2f}\") \n",
    "print(f\"IQR: ${iqr_income:,.2f}\")"
   ]
  },
  {
   "cell_type": "markdown",
   "id": "32788cdf-41fa-4c98-999a-65332cbb5bab",
   "metadata": {},
   "source": []
  },
  {
   "cell_type": "markdown",
   "id": "51d826d2-e8b2-40fc-8ac6-fdcd64e34a75",
   "metadata": {},
   "source": [
    "# Visualising income distribution"
   ]
  },
  {
   "cell_type": "code",
   "execution_count": 59,
   "id": "45f67a6c-0c76-4ad5-914a-deb8d4b11707",
   "metadata": {},
   "outputs": [],
   "source": [
    "import matplotlib.pyplot as plt"
   ]
  },
  {
   "cell_type": "code",
   "execution_count": 60,
   "id": "7e1309fa-bc24-4345-be03-da8ec79b6a3c",
   "metadata": {},
   "outputs": [],
   "source": [
    "import seaborn as sns"
   ]
  },
  {
   "cell_type": "code",
   "execution_count": 61,
   "id": "23d229fc-a927-49d0-a38b-ce306f7b587d",
   "metadata": {},
   "outputs": [
    {
     "data": {
      "image/png": "[encoded data removed]",
      "text/plain": [
       "<Figure size 800x500 with 1 Axes>"
      ]
     },
     "metadata": {},
     "output_type": "display_data"
    }
   ],
   "source": [
    "# Here i want to use the graph to visualise the income wage n see if there is any variation\n",
    "# the source MATPLOTLIB NOTEBOOK\n",
    "plt.figure(figsize=(8, 5)) # shows the size of the graph\n",
    "sns.histplot(wage_df['Income-wages'], bins=35, kde=True, color='blue')# Signifies a histogram plot\n",
    "plt.title(\"INCOME DISTRIBUTION VISUALISATION USING A HISTOGRAM\")# Signifies title lable\n",
    "plt.xlabel(\"Yearly Income ($)\") # Signifies x lable\n",
    "plt.ylabel(\"Frequency Rates\")# Signifies y lable\n",
    "plt.show()# Signifies x lable"
   ]
  },
  {
   "cell_type": "markdown",
   "id": "cbb4acd3-824a-4140-a172-48fb972d360e",
   "metadata": {},
   "source": [
    "# c)"
   ]
  },
  {
   "cell_type": "code",
   "execution_count": 62,
   "id": "6dbc492e-c28c-42ae-81ca-36e664718f32",
   "metadata": {},
   "outputs": [
    {
     "name": "stdout",
     "output_type": "stream",
     "text": [
      "If there was no variability:\n",
      "Standard Deviation: 0\n",
      "IQR: 0\n"
     ]
    }
   ],
   "source": [
    "print(\"If there was no variability:\") # if there was no variability, the standar deviation and IQR would be 0\n",
    "print(f\"Standard Deviation: 0\")\n",
    "print(f\"IQR: 0\")"
   ]
  },
  {
   "cell_type": "markdown",
   "id": "b2ef6642-78f5-4deb-82f3-e9d35253f3d0",
   "metadata": {},
   "source": [
    "# d)"
   ]
  },
  {
   "cell_type": "markdown",
   "id": "4d8a3020-9dc1-48fb-9a41-669eba0d3a45",
   "metadata": {},
   "source": [
    "# Central tendency measure of no variable"
   ]
  },
  {
   "cell_type": "code",
   "execution_count": 63,
   "id": "c096096c-aa52-410e-954d-2744d11072ba",
   "metadata": {},
   "outputs": [
    {
     "name": "stdout",
     "output_type": "stream",
     "text": [
      "Mean, Median, Q1, Q3, Min, Max: $58,704.16\n"
     ]
    }
   ],
   "source": [
    "constant_income = wage_df['Income-wages'].mean()  # Assuming the constant is the mean\n",
    "print(f\"Mean, Median, Q1, Q3, Min, Max: ${constant_income:,.2f}\")##"
   ]
  },
  {
   "cell_type": "markdown",
   "id": "d0f53a00-1ec7-4911-93cf-735cf98b005e",
   "metadata": {},
   "source": [
    "# e) # Bivariate analysis"
   ]
  },
  {
   "cell_type": "markdown",
   "id": "cd7f7c67-b5e0-4ebe-acd3-d10d37d961c1",
   "metadata": {},
   "source": [
    "# Abox plot of income vs education level"
   ]
  },
  {
   "cell_type": "code",
   "execution_count": 64,
   "id": "aad5d818-f772-4b8d-ace2-ec5fb6786709",
   "metadata": {},
   "outputs": [
    {
     "data": {
      "image/png": "[encoded data removed]",
      "text/plain": [
       "<Figure size 1000x600 with 1 Axes>"
      ]
     },
     "metadata": {},
     "output_type": "display_data"
    }
   ],
   "source": [
    "# When visualising the bivariate data, i decided to use a box plot because it compares very wee two variables\n",
    "# Bivariate a nalysis refers Explore relationships between pairs of variables using scatter plots, \n",
    "#correlation matrices, or cross-tabulations.\n",
    "plt.figure(figsize=(10, 6))\n",
    "sns.boxplot(x='Education-degree_recode', y='Income-wages', data=wage_df)\n",
    "plt.title(\"Income by Education Level\")\n",
    "plt.xticks(rotation=45)\n",
    "plt.ylabel(\"Yearly Income ($)\")\n",
    "plt.show()"
   ]
  },
  {
   "cell_type": "markdown",
   "id": "5ce3c5ce-ccf4-48da-90c5-36164e68e701",
   "metadata": {},
   "source": [
    "# A box plot of income Vs Region of location"
   ]
  },
  {
   "cell_type": "code",
   "execution_count": 65,
   "id": "2c8ee816-5739-42b8-8720-4c8067754f89",
   "metadata": {},
   "outputs": [
    {
     "data": {
      "image/png": "[encoded data removed]",
      "text/plain": [
       "<Figure size 1000x600 with 1 Axes>"
      ]
     },
     "metadata": {},
     "output_type": "display_data"
    }
   ],
   "source": [
    "# When visualising the bivariate data, i decided to use a box plot because it compares very wee two variables\n",
    "# Bivariate a nalysis refers Explore relationships between pairs of variables using scatter plots, \n",
    "#correlation matrices, or cross-tabulations.\n",
    "\n",
    "plt.figure(figsize=(10, 6))\n",
    "sns.boxplot(x='Region_recode', y='Income-wages', data=wage_df)\n",
    "plt.title(\"Income by Education Level\")\n",
    "plt.xticks(rotation=45)\n",
    "plt.ylabel(\"Yearly Income ($)\")\n",
    "plt.show()"
   ]
  },
  {
   "cell_type": "markdown",
   "id": "edabd533-c91d-4807-b755-9ef393daf3a6",
   "metadata": {},
   "source": [
    "# QUESTION TWO"
   ]
  },
  {
   "cell_type": "code",
   "execution_count": 66,
   "id": "d2be173f-ccca-48ff-bbeb-f613f229720f",
   "metadata": {},
   "outputs": [],
   "source": [
    "import numpy as np\n",
    "import pandas as pd\n",
    "import seaborn as sns\n",
    "import matplotlib.pyplot as plt"
   ]
  },
  {
   "cell_type": "code",
   "execution_count": 67,
   "id": "208009fe-601f-45e1-92a9-54f4be41ca40",
   "metadata": {},
   "outputs": [],
   "source": [
    "# 2. Exploratory Data Analysis: The student performance dataset provides a detailed overview of student performance in various schools,\n",
    "#focusing on academic achievements and demographic factors."
   ]
  },
  {
   "cell_type": "markdown",
   "id": "164bdadd-4a26-4ab4-9b15-0179f4e68779",
   "metadata": {},
   "source": [
    "# (a) For each gender, which major has the highest total study hours per week? (2 marks)"
   ]
  },
  {
   "cell_type": "code",
   "execution_count": 68,
   "id": "63c028f5-f1aa-40a1-883d-2f2f73809ac6",
   "metadata": {},
   "outputs": [
    {
     "data": {
      "text/html": [
       "<div>\n",
       "<style scoped>\n",
       "    .dataframe tbody tr th:only-of-type {\n",
       "        vertical-align: middle;\n",
       "    }\n",
       "\n",
       "    .dataframe tbody tr th {\n",
       "        vertical-align: top;\n",
       "    }\n",
       "\n",
       "    .dataframe thead th {\n",
       "        text-align: right;\n",
       "    }\n",
       "</style>\n",
       "<table border=\"1\" class=\"dataframe\">\n",
       "  <thead>\n",
       "    <tr style=\"text-align: right;\">\n",
       "      <th></th>\n",
       "      <th>StudentID</th>\n",
       "      <th>Gender</th>\n",
       "      <th>Age</th>\n",
       "      <th>StudyHoursPerWeek</th>\n",
       "      <th>AttendanceRate</th>\n",
       "      <th>GPA</th>\n",
       "      <th>Major</th>\n",
       "      <th>PartTimeJob</th>\n",
       "      <th>ExtraCurricularActivities</th>\n",
       "    </tr>\n",
       "  </thead>\n",
       "  <tbody>\n",
       "    <tr>\n",
       "      <th>0</th>\n",
       "      <td>1</td>\n",
       "      <td>Male</td>\n",
       "      <td>24</td>\n",
       "      <td>37</td>\n",
       "      <td>90.75</td>\n",
       "      <td>3.47</td>\n",
       "      <td>Arts</td>\n",
       "      <td>Yes</td>\n",
       "      <td>No</td>\n",
       "    </tr>\n",
       "    <tr>\n",
       "      <th>1</th>\n",
       "      <td>2</td>\n",
       "      <td>Female</td>\n",
       "      <td>22</td>\n",
       "      <td>37</td>\n",
       "      <td>74.90</td>\n",
       "      <td>2.32</td>\n",
       "      <td>Education</td>\n",
       "      <td>No</td>\n",
       "      <td>No</td>\n",
       "    </tr>\n",
       "    <tr>\n",
       "      <th>2</th>\n",
       "      <td>3</td>\n",
       "      <td>Male</td>\n",
       "      <td>22</td>\n",
       "      <td>10</td>\n",
       "      <td>53.36</td>\n",
       "      <td>2.38</td>\n",
       "      <td>Business</td>\n",
       "      <td>No</td>\n",
       "      <td>No</td>\n",
       "    </tr>\n",
       "    <tr>\n",
       "      <th>3</th>\n",
       "      <td>4</td>\n",
       "      <td>Male</td>\n",
       "      <td>24</td>\n",
       "      <td>10</td>\n",
       "      <td>70.26</td>\n",
       "      <td>3.46</td>\n",
       "      <td>Science</td>\n",
       "      <td>Yes</td>\n",
       "      <td>No</td>\n",
       "    </tr>\n",
       "    <tr>\n",
       "      <th>4</th>\n",
       "      <td>5</td>\n",
       "      <td>Male</td>\n",
       "      <td>18</td>\n",
       "      <td>19</td>\n",
       "      <td>74.87</td>\n",
       "      <td>2.31</td>\n",
       "      <td>Education</td>\n",
       "      <td>Yes</td>\n",
       "      <td>No</td>\n",
       "    </tr>\n",
       "    <tr>\n",
       "      <th>...</th>\n",
       "      <td>...</td>\n",
       "      <td>...</td>\n",
       "      <td>...</td>\n",
       "      <td>...</td>\n",
       "      <td>...</td>\n",
       "      <td>...</td>\n",
       "      <td>...</td>\n",
       "      <td>...</td>\n",
       "      <td>...</td>\n",
       "    </tr>\n",
       "    <tr>\n",
       "      <th>495</th>\n",
       "      <td>496</td>\n",
       "      <td>Male</td>\n",
       "      <td>22</td>\n",
       "      <td>37</td>\n",
       "      <td>76.61</td>\n",
       "      <td>2.97</td>\n",
       "      <td>Science</td>\n",
       "      <td>No</td>\n",
       "      <td>No</td>\n",
       "    </tr>\n",
       "    <tr>\n",
       "      <th>496</th>\n",
       "      <td>497</td>\n",
       "      <td>Male</td>\n",
       "      <td>23</td>\n",
       "      <td>11</td>\n",
       "      <td>56.29</td>\n",
       "      <td>3.20</td>\n",
       "      <td>Science</td>\n",
       "      <td>No</td>\n",
       "      <td>No</td>\n",
       "    </tr>\n",
       "    <tr>\n",
       "      <th>497</th>\n",
       "      <td>498</td>\n",
       "      <td>Female</td>\n",
       "      <td>20</td>\n",
       "      <td>6</td>\n",
       "      <td>56.64</td>\n",
       "      <td>3.20</td>\n",
       "      <td>Science</td>\n",
       "      <td>No</td>\n",
       "      <td>Yes</td>\n",
       "    </tr>\n",
       "    <tr>\n",
       "      <th>498</th>\n",
       "      <td>499</td>\n",
       "      <td>Male</td>\n",
       "      <td>22</td>\n",
       "      <td>18</td>\n",
       "      <td>57.18</td>\n",
       "      <td>2.05</td>\n",
       "      <td>Business</td>\n",
       "      <td>No</td>\n",
       "      <td>Yes</td>\n",
       "    </tr>\n",
       "    <tr>\n",
       "      <th>499</th>\n",
       "      <td>500</td>\n",
       "      <td>Female</td>\n",
       "      <td>24</td>\n",
       "      <td>21</td>\n",
       "      <td>96.99</td>\n",
       "      <td>2.64</td>\n",
       "      <td>Engineering</td>\n",
       "      <td>No</td>\n",
       "      <td>No</td>\n",
       "    </tr>\n",
       "  </tbody>\n",
       "</table>\n",
       "<p>500 rows × 9 columns</p>\n",
       "</div>"
      ],
      "text/plain": [
       "     StudentID  Gender  Age  StudyHoursPerWeek  AttendanceRate   GPA  \\\n",
       "0            1    Male   24                 37           90.75  3.47   \n",
       "1            2  Female   22                 37           74.90  2.32   \n",
       "2            3    Male   22                 10           53.36  2.38   \n",
       "3            4    Male   24                 10           70.26  3.46   \n",
       "4            5    Male   18                 19           74.87  2.31   \n",
       "..         ...     ...  ...                ...             ...   ...   \n",
       "495        496    Male   22                 37           76.61  2.97   \n",
       "496        497    Male   23                 11           56.29  3.20   \n",
       "497        498  Female   20                  6           56.64  3.20   \n",
       "498        499    Male   22                 18           57.18  2.05   \n",
       "499        500  Female   24                 21           96.99  2.64   \n",
       "\n",
       "           Major PartTimeJob ExtraCurricularActivities  \n",
       "0           Arts         Yes                        No  \n",
       "1      Education          No                        No  \n",
       "2       Business          No                        No  \n",
       "3        Science         Yes                        No  \n",
       "4      Education         Yes                        No  \n",
       "..           ...         ...                       ...  \n",
       "495      Science          No                        No  \n",
       "496      Science          No                        No  \n",
       "497      Science          No                       Yes  \n",
       "498     Business          No                       Yes  \n",
       "499  Engineering          No                        No  \n",
       "\n",
       "[500 rows x 9 columns]"
      ]
     },
     "execution_count": 68,
     "metadata": {},
     "output_type": "execute_result"
    }
   ],
   "source": [
    "student_df = pd.read_csv('student_performance_data.csv') # This command extracts dataset into this notebook\n",
    "student_df"
   ]
  },
  {
   "cell_type": "code",
   "execution_count": 69,
   "id": "93526e1f-3f7d-4ff3-83c1-37a1d17c55a1",
   "metadata": {},
   "outputs": [
    {
     "data": {
      "text/plain": [
       "<pandas.core.groupby.generic.DataFrameGroupBy object at 0x000002BDAE9A97F0>"
      ]
     },
     "execution_count": 69,
     "metadata": {},
     "output_type": "execute_result"
    }
   ],
   "source": [
    "grouped_gender = student_df.groupby(['Gender','Major']) # Here am accessing gender and major in the dataset\n",
    "grouped_gender"
   ]
  },
  {
   "cell_type": "code",
   "execution_count": 70,
   "id": "246e142d-481c-4a09-8895-eedfc0deed39",
   "metadata": {},
   "outputs": [
    {
     "data": {
      "text/html": [
       "<div>\n",
       "<style scoped>\n",
       "    .dataframe tbody tr th:only-of-type {\n",
       "        vertical-align: middle;\n",
       "    }\n",
       "\n",
       "    .dataframe tbody tr th {\n",
       "        vertical-align: top;\n",
       "    }\n",
       "\n",
       "    .dataframe thead th {\n",
       "        text-align: right;\n",
       "    }\n",
       "</style>\n",
       "<table border=\"1\" class=\"dataframe\">\n",
       "  <thead>\n",
       "    <tr style=\"text-align: right;\">\n",
       "      <th></th>\n",
       "      <th>Major</th>\n",
       "      <th>Gender</th>\n",
       "      <th>StudyHoursPerWeek</th>\n",
       "    </tr>\n",
       "  </thead>\n",
       "  <tbody>\n",
       "    <tr>\n",
       "      <th>0</th>\n",
       "      <td>Arts</td>\n",
       "      <td>Male</td>\n",
       "      <td>37</td>\n",
       "    </tr>\n",
       "    <tr>\n",
       "      <th>1</th>\n",
       "      <td>Education</td>\n",
       "      <td>Female</td>\n",
       "      <td>37</td>\n",
       "    </tr>\n",
       "    <tr>\n",
       "      <th>2</th>\n",
       "      <td>Business</td>\n",
       "      <td>Male</td>\n",
       "      <td>10</td>\n",
       "    </tr>\n",
       "    <tr>\n",
       "      <th>3</th>\n",
       "      <td>Science</td>\n",
       "      <td>Male</td>\n",
       "      <td>10</td>\n",
       "    </tr>\n",
       "    <tr>\n",
       "      <th>4</th>\n",
       "      <td>Education</td>\n",
       "      <td>Male</td>\n",
       "      <td>19</td>\n",
       "    </tr>\n",
       "    <tr>\n",
       "      <th>...</th>\n",
       "      <td>...</td>\n",
       "      <td>...</td>\n",
       "      <td>...</td>\n",
       "    </tr>\n",
       "    <tr>\n",
       "      <th>495</th>\n",
       "      <td>Science</td>\n",
       "      <td>Male</td>\n",
       "      <td>37</td>\n",
       "    </tr>\n",
       "    <tr>\n",
       "      <th>496</th>\n",
       "      <td>Science</td>\n",
       "      <td>Male</td>\n",
       "      <td>11</td>\n",
       "    </tr>\n",
       "    <tr>\n",
       "      <th>497</th>\n",
       "      <td>Science</td>\n",
       "      <td>Female</td>\n",
       "      <td>6</td>\n",
       "    </tr>\n",
       "    <tr>\n",
       "      <th>498</th>\n",
       "      <td>Business</td>\n",
       "      <td>Male</td>\n",
       "      <td>18</td>\n",
       "    </tr>\n",
       "    <tr>\n",
       "      <th>499</th>\n",
       "      <td>Engineering</td>\n",
       "      <td>Female</td>\n",
       "      <td>21</td>\n",
       "    </tr>\n",
       "  </tbody>\n",
       "</table>\n",
       "<p>500 rows × 3 columns</p>\n",
       "</div>"
      ],
      "text/plain": [
       "           Major  Gender  StudyHoursPerWeek\n",
       "0           Arts    Male                 37\n",
       "1      Education  Female                 37\n",
       "2       Business    Male                 10\n",
       "3        Science    Male                 10\n",
       "4      Education    Male                 19\n",
       "..           ...     ...                ...\n",
       "495      Science    Male                 37\n",
       "496      Science    Male                 11\n",
       "497      Science  Female                  6\n",
       "498     Business    Male                 18\n",
       "499  Engineering  Female                 21\n",
       "\n",
       "[500 rows x 3 columns]"
      ]
     },
     "execution_count": 70,
     "metadata": {},
     "output_type": "execute_result"
    }
   ],
   "source": [
    "#getting data from major column,gendercolumn and study hours per week\n",
    "grouped_data = student_df[['Major','Gender','StudyHoursPerWeek']]\n",
    "grouped_data"
   ]
  },
  {
   "cell_type": "code",
   "execution_count": 71,
   "id": "613cbcca-bf2d-4cb7-a874-702a8054e636",
   "metadata": {},
   "outputs": [
    {
     "data": {
      "text/html": [
       "<div>\n",
       "<style scoped>\n",
       "    .dataframe tbody tr th:only-of-type {\n",
       "        vertical-align: middle;\n",
       "    }\n",
       "\n",
       "    .dataframe tbody tr th {\n",
       "        vertical-align: top;\n",
       "    }\n",
       "\n",
       "    .dataframe thead th {\n",
       "        text-align: right;\n",
       "    }\n",
       "</style>\n",
       "<table border=\"1\" class=\"dataframe\">\n",
       "  <thead>\n",
       "    <tr style=\"text-align: right;\">\n",
       "      <th></th>\n",
       "      <th>StudentID</th>\n",
       "      <th>Gender</th>\n",
       "      <th>Age</th>\n",
       "      <th>StudyHoursPerWeek</th>\n",
       "      <th>AttendanceRate</th>\n",
       "      <th>GPA</th>\n",
       "      <th>Major</th>\n",
       "      <th>PartTimeJob</th>\n",
       "      <th>ExtraCurricularActivities</th>\n",
       "    </tr>\n",
       "  </thead>\n",
       "  <tbody>\n",
       "    <tr>\n",
       "      <th>0</th>\n",
       "      <td>1</td>\n",
       "      <td>Male</td>\n",
       "      <td>24</td>\n",
       "      <td>37</td>\n",
       "      <td>90.75</td>\n",
       "      <td>3.47</td>\n",
       "      <td>Arts</td>\n",
       "      <td>Yes</td>\n",
       "      <td>No</td>\n",
       "    </tr>\n",
       "    <tr>\n",
       "      <th>2</th>\n",
       "      <td>3</td>\n",
       "      <td>Male</td>\n",
       "      <td>22</td>\n",
       "      <td>10</td>\n",
       "      <td>53.36</td>\n",
       "      <td>2.38</td>\n",
       "      <td>Business</td>\n",
       "      <td>No</td>\n",
       "      <td>No</td>\n",
       "    </tr>\n",
       "    <tr>\n",
       "      <th>3</th>\n",
       "      <td>4</td>\n",
       "      <td>Male</td>\n",
       "      <td>24</td>\n",
       "      <td>10</td>\n",
       "      <td>70.26</td>\n",
       "      <td>3.46</td>\n",
       "      <td>Science</td>\n",
       "      <td>Yes</td>\n",
       "      <td>No</td>\n",
       "    </tr>\n",
       "    <tr>\n",
       "      <th>4</th>\n",
       "      <td>5</td>\n",
       "      <td>Male</td>\n",
       "      <td>18</td>\n",
       "      <td>19</td>\n",
       "      <td>74.87</td>\n",
       "      <td>2.31</td>\n",
       "      <td>Education</td>\n",
       "      <td>Yes</td>\n",
       "      <td>No</td>\n",
       "    </tr>\n",
       "    <tr>\n",
       "      <th>6</th>\n",
       "      <td>7</td>\n",
       "      <td>Male</td>\n",
       "      <td>19</td>\n",
       "      <td>21</td>\n",
       "      <td>55.33</td>\n",
       "      <td>3.93</td>\n",
       "      <td>Arts</td>\n",
       "      <td>No</td>\n",
       "      <td>No</td>\n",
       "    </tr>\n",
       "    <tr>\n",
       "      <th>...</th>\n",
       "      <td>...</td>\n",
       "      <td>...</td>\n",
       "      <td>...</td>\n",
       "      <td>...</td>\n",
       "      <td>...</td>\n",
       "      <td>...</td>\n",
       "      <td>...</td>\n",
       "      <td>...</td>\n",
       "      <td>...</td>\n",
       "    </tr>\n",
       "    <tr>\n",
       "      <th>492</th>\n",
       "      <td>493</td>\n",
       "      <td>Male</td>\n",
       "      <td>18</td>\n",
       "      <td>29</td>\n",
       "      <td>62.71</td>\n",
       "      <td>2.45</td>\n",
       "      <td>Education</td>\n",
       "      <td>Yes</td>\n",
       "      <td>No</td>\n",
       "    </tr>\n",
       "    <tr>\n",
       "      <th>494</th>\n",
       "      <td>495</td>\n",
       "      <td>Male</td>\n",
       "      <td>24</td>\n",
       "      <td>23</td>\n",
       "      <td>67.13</td>\n",
       "      <td>2.11</td>\n",
       "      <td>Business</td>\n",
       "      <td>No</td>\n",
       "      <td>Yes</td>\n",
       "    </tr>\n",
       "    <tr>\n",
       "      <th>495</th>\n",
       "      <td>496</td>\n",
       "      <td>Male</td>\n",
       "      <td>22</td>\n",
       "      <td>37</td>\n",
       "      <td>76.61</td>\n",
       "      <td>2.97</td>\n",
       "      <td>Science</td>\n",
       "      <td>No</td>\n",
       "      <td>No</td>\n",
       "    </tr>\n",
       "    <tr>\n",
       "      <th>496</th>\n",
       "      <td>497</td>\n",
       "      <td>Male</td>\n",
       "      <td>23</td>\n",
       "      <td>11</td>\n",
       "      <td>56.29</td>\n",
       "      <td>3.20</td>\n",
       "      <td>Science</td>\n",
       "      <td>No</td>\n",
       "      <td>No</td>\n",
       "    </tr>\n",
       "    <tr>\n",
       "      <th>498</th>\n",
       "      <td>499</td>\n",
       "      <td>Male</td>\n",
       "      <td>22</td>\n",
       "      <td>18</td>\n",
       "      <td>57.18</td>\n",
       "      <td>2.05</td>\n",
       "      <td>Business</td>\n",
       "      <td>No</td>\n",
       "      <td>Yes</td>\n",
       "    </tr>\n",
       "  </tbody>\n",
       "</table>\n",
       "<p>244 rows × 9 columns</p>\n",
       "</div>"
      ],
      "text/plain": [
       "     StudentID Gender  Age  StudyHoursPerWeek  AttendanceRate   GPA  \\\n",
       "0            1   Male   24                 37           90.75  3.47   \n",
       "2            3   Male   22                 10           53.36  2.38   \n",
       "3            4   Male   24                 10           70.26  3.46   \n",
       "4            5   Male   18                 19           74.87  2.31   \n",
       "6            7   Male   19                 21           55.33  3.93   \n",
       "..         ...    ...  ...                ...             ...   ...   \n",
       "492        493   Male   18                 29           62.71  2.45   \n",
       "494        495   Male   24                 23           67.13  2.11   \n",
       "495        496   Male   22                 37           76.61  2.97   \n",
       "496        497   Male   23                 11           56.29  3.20   \n",
       "498        499   Male   22                 18           57.18  2.05   \n",
       "\n",
       "         Major PartTimeJob ExtraCurricularActivities  \n",
       "0         Arts         Yes                        No  \n",
       "2     Business          No                        No  \n",
       "3      Science         Yes                        No  \n",
       "4    Education         Yes                        No  \n",
       "6         Arts          No                        No  \n",
       "..         ...         ...                       ...  \n",
       "492  Education         Yes                        No  \n",
       "494   Business          No                       Yes  \n",
       "495    Science          No                        No  \n",
       "496    Science          No                        No  \n",
       "498   Business          No                       Yes  \n",
       "\n",
       "[244 rows x 9 columns]"
      ]
     },
     "execution_count": 71,
     "metadata": {},
     "output_type": "execute_result"
    }
   ],
   "source": [
    "#Getting the major with male gender\n",
    "males_data = student_df[student_df['Gender']=='Male']\n",
    "males_data"
   ]
  },
  {
   "cell_type": "code",
   "execution_count": 72,
   "id": "d9fccac1-74ba-437f-a271-8f7bf06454c0",
   "metadata": {},
   "outputs": [
    {
     "data": {
      "text/plain": [
       "np.int64(35)"
      ]
     },
     "execution_count": 72,
     "metadata": {},
     "output_type": "execute_result"
    }
   ],
   "source": [
    "#Getting the male gender with the highest study hours pe week\n",
    "#idxmax returns the max value\n",
    "Highest_male = males_data['StudyHoursPerWeek'].idxmax()\n",
    "Highest_male"
   ]
  },
  {
   "cell_type": "code",
   "execution_count": 73,
   "id": "a6279b08-aa6a-4104-b750-2f2085581397",
   "metadata": {},
   "outputs": [
    {
     "data": {
      "text/html": [
       "<div>\n",
       "<style scoped>\n",
       "    .dataframe tbody tr th:only-of-type {\n",
       "        vertical-align: middle;\n",
       "    }\n",
       "\n",
       "    .dataframe tbody tr th {\n",
       "        vertical-align: top;\n",
       "    }\n",
       "\n",
       "    .dataframe thead th {\n",
       "        text-align: right;\n",
       "    }\n",
       "</style>\n",
       "<table border=\"1\" class=\"dataframe\">\n",
       "  <thead>\n",
       "    <tr style=\"text-align: right;\">\n",
       "      <th></th>\n",
       "      <th>StudentID</th>\n",
       "      <th>Gender</th>\n",
       "      <th>Age</th>\n",
       "      <th>StudyHoursPerWeek</th>\n",
       "      <th>AttendanceRate</th>\n",
       "      <th>GPA</th>\n",
       "      <th>Major</th>\n",
       "      <th>PartTimeJob</th>\n",
       "      <th>ExtraCurricularActivities</th>\n",
       "    </tr>\n",
       "  </thead>\n",
       "  <tbody>\n",
       "    <tr>\n",
       "      <th>1</th>\n",
       "      <td>2</td>\n",
       "      <td>Female</td>\n",
       "      <td>22</td>\n",
       "      <td>37</td>\n",
       "      <td>74.90</td>\n",
       "      <td>2.32</td>\n",
       "      <td>Education</td>\n",
       "      <td>No</td>\n",
       "      <td>No</td>\n",
       "    </tr>\n",
       "    <tr>\n",
       "      <th>5</th>\n",
       "      <td>6</td>\n",
       "      <td>Female</td>\n",
       "      <td>20</td>\n",
       "      <td>17</td>\n",
       "      <td>86.01</td>\n",
       "      <td>2.47</td>\n",
       "      <td>Business</td>\n",
       "      <td>Yes</td>\n",
       "      <td>No</td>\n",
       "    </tr>\n",
       "    <tr>\n",
       "      <th>9</th>\n",
       "      <td>10</td>\n",
       "      <td>Female</td>\n",
       "      <td>24</td>\n",
       "      <td>1</td>\n",
       "      <td>63.32</td>\n",
       "      <td>3.96</td>\n",
       "      <td>Engineering</td>\n",
       "      <td>Yes</td>\n",
       "      <td>Yes</td>\n",
       "    </tr>\n",
       "    <tr>\n",
       "      <th>14</th>\n",
       "      <td>15</td>\n",
       "      <td>Female</td>\n",
       "      <td>19</td>\n",
       "      <td>34</td>\n",
       "      <td>78.66</td>\n",
       "      <td>3.73</td>\n",
       "      <td>Arts</td>\n",
       "      <td>Yes</td>\n",
       "      <td>Yes</td>\n",
       "    </tr>\n",
       "    <tr>\n",
       "      <th>16</th>\n",
       "      <td>17</td>\n",
       "      <td>Female</td>\n",
       "      <td>23</td>\n",
       "      <td>31</td>\n",
       "      <td>70.22</td>\n",
       "      <td>2.23</td>\n",
       "      <td>Arts</td>\n",
       "      <td>Yes</td>\n",
       "      <td>Yes</td>\n",
       "    </tr>\n",
       "    <tr>\n",
       "      <th>...</th>\n",
       "      <td>...</td>\n",
       "      <td>...</td>\n",
       "      <td>...</td>\n",
       "      <td>...</td>\n",
       "      <td>...</td>\n",
       "      <td>...</td>\n",
       "      <td>...</td>\n",
       "      <td>...</td>\n",
       "      <td>...</td>\n",
       "    </tr>\n",
       "    <tr>\n",
       "      <th>487</th>\n",
       "      <td>488</td>\n",
       "      <td>Female</td>\n",
       "      <td>18</td>\n",
       "      <td>39</td>\n",
       "      <td>84.30</td>\n",
       "      <td>2.80</td>\n",
       "      <td>Business</td>\n",
       "      <td>Yes</td>\n",
       "      <td>Yes</td>\n",
       "    </tr>\n",
       "    <tr>\n",
       "      <th>490</th>\n",
       "      <td>491</td>\n",
       "      <td>Female</td>\n",
       "      <td>23</td>\n",
       "      <td>4</td>\n",
       "      <td>98.65</td>\n",
       "      <td>3.45</td>\n",
       "      <td>Engineering</td>\n",
       "      <td>Yes</td>\n",
       "      <td>Yes</td>\n",
       "    </tr>\n",
       "    <tr>\n",
       "      <th>493</th>\n",
       "      <td>494</td>\n",
       "      <td>Female</td>\n",
       "      <td>22</td>\n",
       "      <td>34</td>\n",
       "      <td>76.09</td>\n",
       "      <td>3.41</td>\n",
       "      <td>Engineering</td>\n",
       "      <td>No</td>\n",
       "      <td>No</td>\n",
       "    </tr>\n",
       "    <tr>\n",
       "      <th>497</th>\n",
       "      <td>498</td>\n",
       "      <td>Female</td>\n",
       "      <td>20</td>\n",
       "      <td>6</td>\n",
       "      <td>56.64</td>\n",
       "      <td>3.20</td>\n",
       "      <td>Science</td>\n",
       "      <td>No</td>\n",
       "      <td>Yes</td>\n",
       "    </tr>\n",
       "    <tr>\n",
       "      <th>499</th>\n",
       "      <td>500</td>\n",
       "      <td>Female</td>\n",
       "      <td>24</td>\n",
       "      <td>21</td>\n",
       "      <td>96.99</td>\n",
       "      <td>2.64</td>\n",
       "      <td>Engineering</td>\n",
       "      <td>No</td>\n",
       "      <td>No</td>\n",
       "    </tr>\n",
       "  </tbody>\n",
       "</table>\n",
       "<p>256 rows × 9 columns</p>\n",
       "</div>"
      ],
      "text/plain": [
       "     StudentID  Gender  Age  StudyHoursPerWeek  AttendanceRate   GPA  \\\n",
       "1            2  Female   22                 37           74.90  2.32   \n",
       "5            6  Female   20                 17           86.01  2.47   \n",
       "9           10  Female   24                  1           63.32  3.96   \n",
       "14          15  Female   19                 34           78.66  3.73   \n",
       "16          17  Female   23                 31           70.22  2.23   \n",
       "..         ...     ...  ...                ...             ...   ...   \n",
       "487        488  Female   18                 39           84.30  2.80   \n",
       "490        491  Female   23                  4           98.65  3.45   \n",
       "493        494  Female   22                 34           76.09  3.41   \n",
       "497        498  Female   20                  6           56.64  3.20   \n",
       "499        500  Female   24                 21           96.99  2.64   \n",
       "\n",
       "           Major PartTimeJob ExtraCurricularActivities  \n",
       "1      Education          No                        No  \n",
       "5       Business         Yes                        No  \n",
       "9    Engineering         Yes                       Yes  \n",
       "14          Arts         Yes                       Yes  \n",
       "16          Arts         Yes                       Yes  \n",
       "..           ...         ...                       ...  \n",
       "487     Business         Yes                       Yes  \n",
       "490  Engineering         Yes                       Yes  \n",
       "493  Engineering          No                        No  \n",
       "497      Science          No                       Yes  \n",
       "499  Engineering          No                        No  \n",
       "\n",
       "[256 rows x 9 columns]"
      ]
     },
     "execution_count": 73,
     "metadata": {},
     "output_type": "execute_result"
    }
   ],
   "source": [
    "#Getting the major with female gender\n",
    "females_data = student_df[student_df['Gender']=='Female']\n",
    "females_data"
   ]
  },
  {
   "cell_type": "code",
   "execution_count": 74,
   "id": "b430a917-ffd7-4609-9cd7-da7575b391bc",
   "metadata": {},
   "outputs": [
    {
     "data": {
      "text/plain": [
       "np.int64(18)"
      ]
     },
     "execution_count": 74,
     "metadata": {},
     "output_type": "execute_result"
    }
   ],
   "source": [
    "#Getting the female gender with the highest study hours pe week\n",
    "#idxmax returns the max value\n",
    "Highest_female = females_data['StudyHoursPerWeek'].idxmax()\n",
    "Highest_female"
   ]
  },
  {
   "cell_type": "code",
   "execution_count": null,
   "id": "32cab15a-b312-4e5a-9a6c-47a9b7e1dd34",
   "metadata": {},
   "outputs": [],
   "source": []
  },
  {
   "cell_type": "markdown",
   "id": "f414857e-979e-498c-929d-69294625ae7e",
   "metadata": {},
   "source": [
    "# (b) Which gender has the highest overall average attendance rate? Return the gender and the average attendance rate? (3 marks)\n"
   ]
  },
  {
   "cell_type": "code",
   "execution_count": 75,
   "id": "55d95df5-3575-4c22-9fd0-4ef617cb2a2c",
   "metadata": {},
   "outputs": [
    {
     "data": {
      "text/html": [
       "<div>\n",
       "<style scoped>\n",
       "    .dataframe tbody tr th:only-of-type {\n",
       "        vertical-align: middle;\n",
       "    }\n",
       "\n",
       "    .dataframe tbody tr th {\n",
       "        vertical-align: top;\n",
       "    }\n",
       "\n",
       "    .dataframe thead th {\n",
       "        text-align: right;\n",
       "    }\n",
       "</style>\n",
       "<table border=\"1\" class=\"dataframe\">\n",
       "  <thead>\n",
       "    <tr style=\"text-align: right;\">\n",
       "      <th></th>\n",
       "      <th>Gender</th>\n",
       "      <th>AttendanceRate</th>\n",
       "    </tr>\n",
       "  </thead>\n",
       "  <tbody>\n",
       "    <tr>\n",
       "      <th>0</th>\n",
       "      <td>Male</td>\n",
       "      <td>90.75</td>\n",
       "    </tr>\n",
       "    <tr>\n",
       "      <th>1</th>\n",
       "      <td>Female</td>\n",
       "      <td>74.90</td>\n",
       "    </tr>\n",
       "    <tr>\n",
       "      <th>2</th>\n",
       "      <td>Male</td>\n",
       "      <td>53.36</td>\n",
       "    </tr>\n",
       "    <tr>\n",
       "      <th>3</th>\n",
       "      <td>Male</td>\n",
       "      <td>70.26</td>\n",
       "    </tr>\n",
       "    <tr>\n",
       "      <th>4</th>\n",
       "      <td>Male</td>\n",
       "      <td>74.87</td>\n",
       "    </tr>\n",
       "    <tr>\n",
       "      <th>...</th>\n",
       "      <td>...</td>\n",
       "      <td>...</td>\n",
       "    </tr>\n",
       "    <tr>\n",
       "      <th>495</th>\n",
       "      <td>Male</td>\n",
       "      <td>76.61</td>\n",
       "    </tr>\n",
       "    <tr>\n",
       "      <th>496</th>\n",
       "      <td>Male</td>\n",
       "      <td>56.29</td>\n",
       "    </tr>\n",
       "    <tr>\n",
       "      <th>497</th>\n",
       "      <td>Female</td>\n",
       "      <td>56.64</td>\n",
       "    </tr>\n",
       "    <tr>\n",
       "      <th>498</th>\n",
       "      <td>Male</td>\n",
       "      <td>57.18</td>\n",
       "    </tr>\n",
       "    <tr>\n",
       "      <th>499</th>\n",
       "      <td>Female</td>\n",
       "      <td>96.99</td>\n",
       "    </tr>\n",
       "  </tbody>\n",
       "</table>\n",
       "<p>500 rows × 2 columns</p>\n",
       "</div>"
      ],
      "text/plain": [
       "     Gender  AttendanceRate\n",
       "0      Male           90.75\n",
       "1    Female           74.90\n",
       "2      Male           53.36\n",
       "3      Male           70.26\n",
       "4      Male           74.87\n",
       "..      ...             ...\n",
       "495    Male           76.61\n",
       "496    Male           56.29\n",
       "497  Female           56.64\n",
       "498    Male           57.18\n",
       "499  Female           96.99\n",
       "\n",
       "[500 rows x 2 columns]"
      ]
     },
     "execution_count": 75,
     "metadata": {},
     "output_type": "execute_result"
    }
   ],
   "source": [
    "# Accessing gender column and attendance rate column\n",
    "gender_and_attendance = student_df[['Gender','AttendanceRate']] #source PANDAS NOTEBOOK\n",
    "gender_and_attendance"
   ]
  },
  {
   "cell_type": "code",
   "execution_count": 76,
   "id": "58243694-1e22-47d2-83fc-f888e98b02f8",
   "metadata": {},
   "outputs": [
    {
     "data": {
      "text/plain": [
       "Gender\n",
       "Female    75.925742\n",
       "Male      74.009016\n",
       "Name: AttendanceRate, dtype: float64"
      ]
     },
     "execution_count": 76,
     "metadata": {},
     "output_type": "execute_result"
    }
   ],
   "source": [
    "highly_attended = student_df.groupby('Gender')['AttendanceRate'].mean()\n",
    "highly_attended\n",
    "# Gruoping and finding the average of the attendance rate"
   ]
  },
  {
   "cell_type": "code",
   "execution_count": 77,
   "id": "9ad8b0de-6508-44bf-8a80-7c0464ed9e72",
   "metadata": {},
   "outputs": [],
   "source": [
    "# Thus the overall attendance is female gender"
   ]
  },
  {
   "cell_type": "markdown",
   "id": "fc3346f1-c8a7-45f2-8268-cf6e98d90f2e",
   "metadata": {},
   "source": [
    "# (c) What percentage of students have part-time jobs, and what percentage have no part-time jobs? (5 marks)"
   ]
  },
  {
   "cell_type": "code",
   "execution_count": 78,
   "id": "66a79ede-7593-4a41-bd96-6ad98b2c976f",
   "metadata": {},
   "outputs": [
    {
     "data": {
      "text/plain": [
       "StudentID  Gender  Age  StudyHoursPerWeek  AttendanceRate  GPA   Major      PartTimeJob  ExtraCurricularActivities\n",
       "493        Male    18   29                 62.71           2.45  Education  Yes          No                           0.373134\n",
       "1          Male    24   37                 90.75           3.47  Arts       Yes          No                           0.373134\n",
       "4          Male    24   10                 70.26           3.46  Science    Yes          No                           0.373134\n",
       "5          Male    18   19                 74.87           2.31  Education  Yes          No                           0.373134\n",
       "6          Female  20   17                 86.01           2.47  Business   Yes          No                           0.373134\n",
       "                                                                                                                        ...   \n",
       "30         Female  24   15                 80.52           3.99  Science    Yes          Yes                          0.373134\n",
       "26         Female  18   30                 91.85           2.32  Arts       Yes          No                           0.373134\n",
       "25         Female  18   5                  53.41           2.70  Business   Yes          No                           0.373134\n",
       "24         Female  19   1                  88.55           3.15  Business   Yes          Yes                          0.373134\n",
       "21         Female  20   34                 97.93           3.88  Education  Yes          No                           0.373134\n",
       "Name: proportion, Length: 268, dtype: float64"
      ]
     },
     "execution_count": 78,
     "metadata": {},
     "output_type": "execute_result"
    }
   ],
   "source": [
    "part_time = student_df[student_df['PartTimeJob']=='Yes'].value_counts(normalize = True) * 100\n",
    "part_time     # Here i want to get the parttime students with assigned value yes"
   ]
  },
  {
   "cell_type": "code",
   "execution_count": 79,
   "id": "25a0da98-aab9-48e1-a31e-913350f7e03a",
   "metadata": {},
   "outputs": [
    {
     "data": {
      "text/plain": [
       "StudentID  Gender  Age  StudyHoursPerWeek  AttendanceRate  GPA   Major        PartTimeJob  ExtraCurricularActivities\n",
       "2          Female  22   37                 74.90           2.32  Education    No           No                           0.431034\n",
       "3          Male    22   10                 53.36           2.38  Business     No           No                           0.431034\n",
       "7          Male    19   21                 55.33           3.93  Arts         No           No                           0.431034\n",
       "8          Male    18   14                 57.00           2.51  Education    No           No                           0.431034\n",
       "9          Male    19   9                  63.18           3.32  Business     No           No                           0.431034\n",
       "                                                                                                                          ...   \n",
       "496        Male    22   37                 76.61           2.97  Science      No           No                           0.431034\n",
       "497        Male    23   11                 56.29           3.20  Science      No           No                           0.431034\n",
       "498        Female  20   6                  56.64           3.20  Science      No           Yes                          0.431034\n",
       "499        Male    22   18                 57.18           2.05  Business     No           Yes                          0.431034\n",
       "500        Female  24   21                 96.99           2.64  Engineering  No           No                           0.431034\n",
       "Name: proportion, Length: 232, dtype: float64"
      ]
     },
     "execution_count": 79,
     "metadata": {},
     "output_type": "execute_result"
    }
   ],
   "source": [
    "non_part_time = student_df[student_df['PartTimeJob']=='No'].value_counts(normalize = True) * 100\n",
    "non_part_time  # here i want to get the students who are not part timers"
   ]
  },
  {
   "cell_type": "code",
   "execution_count": null,
   "id": "9749aba4-eb0c-4395-8e1a-297452054275",
   "metadata": {},
   "outputs": [],
   "source": []
  },
  {
   "cell_type": "markdown",
   "id": "4e1d01c0-cfca-4578-aa99-7974b4ea057d",
   "metadata": {},
   "source": [
    "# (d) For each gender, what is the mean GPA and variance of age? (5 marks)"
   ]
  },
  {
   "cell_type": "code",
   "execution_count": 80,
   "id": "2cdf9750-c764-4b79-8c1a-206e8c9f8ed2",
   "metadata": {},
   "outputs": [
    {
     "data": {
      "text/html": [
       "<div>\n",
       "<style scoped>\n",
       "    .dataframe tbody tr th:only-of-type {\n",
       "        vertical-align: middle;\n",
       "    }\n",
       "\n",
       "    .dataframe tbody tr th {\n",
       "        vertical-align: top;\n",
       "    }\n",
       "\n",
       "    .dataframe thead th {\n",
       "        text-align: right;\n",
       "    }\n",
       "</style>\n",
       "<table border=\"1\" class=\"dataframe\">\n",
       "  <thead>\n",
       "    <tr style=\"text-align: right;\">\n",
       "      <th></th>\n",
       "      <th>StudentID</th>\n",
       "      <th>Gender</th>\n",
       "      <th>Age</th>\n",
       "      <th>StudyHoursPerWeek</th>\n",
       "      <th>AttendanceRate</th>\n",
       "      <th>GPA</th>\n",
       "      <th>Major</th>\n",
       "      <th>PartTimeJob</th>\n",
       "      <th>ExtraCurricularActivities</th>\n",
       "    </tr>\n",
       "  </thead>\n",
       "  <tbody>\n",
       "    <tr>\n",
       "      <th>1</th>\n",
       "      <td>2</td>\n",
       "      <td>Female</td>\n",
       "      <td>22</td>\n",
       "      <td>37</td>\n",
       "      <td>74.90</td>\n",
       "      <td>2.32</td>\n",
       "      <td>Education</td>\n",
       "      <td>No</td>\n",
       "      <td>No</td>\n",
       "    </tr>\n",
       "    <tr>\n",
       "      <th>5</th>\n",
       "      <td>6</td>\n",
       "      <td>Female</td>\n",
       "      <td>20</td>\n",
       "      <td>17</td>\n",
       "      <td>86.01</td>\n",
       "      <td>2.47</td>\n",
       "      <td>Business</td>\n",
       "      <td>Yes</td>\n",
       "      <td>No</td>\n",
       "    </tr>\n",
       "    <tr>\n",
       "      <th>9</th>\n",
       "      <td>10</td>\n",
       "      <td>Female</td>\n",
       "      <td>24</td>\n",
       "      <td>1</td>\n",
       "      <td>63.32</td>\n",
       "      <td>3.96</td>\n",
       "      <td>Engineering</td>\n",
       "      <td>Yes</td>\n",
       "      <td>Yes</td>\n",
       "    </tr>\n",
       "    <tr>\n",
       "      <th>14</th>\n",
       "      <td>15</td>\n",
       "      <td>Female</td>\n",
       "      <td>19</td>\n",
       "      <td>34</td>\n",
       "      <td>78.66</td>\n",
       "      <td>3.73</td>\n",
       "      <td>Arts</td>\n",
       "      <td>Yes</td>\n",
       "      <td>Yes</td>\n",
       "    </tr>\n",
       "    <tr>\n",
       "      <th>16</th>\n",
       "      <td>17</td>\n",
       "      <td>Female</td>\n",
       "      <td>23</td>\n",
       "      <td>31</td>\n",
       "      <td>70.22</td>\n",
       "      <td>2.23</td>\n",
       "      <td>Arts</td>\n",
       "      <td>Yes</td>\n",
       "      <td>Yes</td>\n",
       "    </tr>\n",
       "    <tr>\n",
       "      <th>...</th>\n",
       "      <td>...</td>\n",
       "      <td>...</td>\n",
       "      <td>...</td>\n",
       "      <td>...</td>\n",
       "      <td>...</td>\n",
       "      <td>...</td>\n",
       "      <td>...</td>\n",
       "      <td>...</td>\n",
       "      <td>...</td>\n",
       "    </tr>\n",
       "    <tr>\n",
       "      <th>487</th>\n",
       "      <td>488</td>\n",
       "      <td>Female</td>\n",
       "      <td>18</td>\n",
       "      <td>39</td>\n",
       "      <td>84.30</td>\n",
       "      <td>2.80</td>\n",
       "      <td>Business</td>\n",
       "      <td>Yes</td>\n",
       "      <td>Yes</td>\n",
       "    </tr>\n",
       "    <tr>\n",
       "      <th>490</th>\n",
       "      <td>491</td>\n",
       "      <td>Female</td>\n",
       "      <td>23</td>\n",
       "      <td>4</td>\n",
       "      <td>98.65</td>\n",
       "      <td>3.45</td>\n",
       "      <td>Engineering</td>\n",
       "      <td>Yes</td>\n",
       "      <td>Yes</td>\n",
       "    </tr>\n",
       "    <tr>\n",
       "      <th>493</th>\n",
       "      <td>494</td>\n",
       "      <td>Female</td>\n",
       "      <td>22</td>\n",
       "      <td>34</td>\n",
       "      <td>76.09</td>\n",
       "      <td>3.41</td>\n",
       "      <td>Engineering</td>\n",
       "      <td>No</td>\n",
       "      <td>No</td>\n",
       "    </tr>\n",
       "    <tr>\n",
       "      <th>497</th>\n",
       "      <td>498</td>\n",
       "      <td>Female</td>\n",
       "      <td>20</td>\n",
       "      <td>6</td>\n",
       "      <td>56.64</td>\n",
       "      <td>3.20</td>\n",
       "      <td>Science</td>\n",
       "      <td>No</td>\n",
       "      <td>Yes</td>\n",
       "    </tr>\n",
       "    <tr>\n",
       "      <th>499</th>\n",
       "      <td>500</td>\n",
       "      <td>Female</td>\n",
       "      <td>24</td>\n",
       "      <td>21</td>\n",
       "      <td>96.99</td>\n",
       "      <td>2.64</td>\n",
       "      <td>Engineering</td>\n",
       "      <td>No</td>\n",
       "      <td>No</td>\n",
       "    </tr>\n",
       "  </tbody>\n",
       "</table>\n",
       "<p>256 rows × 9 columns</p>\n",
       "</div>"
      ],
      "text/plain": [
       "     StudentID  Gender  Age  StudyHoursPerWeek  AttendanceRate   GPA  \\\n",
       "1            2  Female   22                 37           74.90  2.32   \n",
       "5            6  Female   20                 17           86.01  2.47   \n",
       "9           10  Female   24                  1           63.32  3.96   \n",
       "14          15  Female   19                 34           78.66  3.73   \n",
       "16          17  Female   23                 31           70.22  2.23   \n",
       "..         ...     ...  ...                ...             ...   ...   \n",
       "487        488  Female   18                 39           84.30  2.80   \n",
       "490        491  Female   23                  4           98.65  3.45   \n",
       "493        494  Female   22                 34           76.09  3.41   \n",
       "497        498  Female   20                  6           56.64  3.20   \n",
       "499        500  Female   24                 21           96.99  2.64   \n",
       "\n",
       "           Major PartTimeJob ExtraCurricularActivities  \n",
       "1      Education          No                        No  \n",
       "5       Business         Yes                        No  \n",
       "9    Engineering         Yes                       Yes  \n",
       "14          Arts         Yes                       Yes  \n",
       "16          Arts         Yes                       Yes  \n",
       "..           ...         ...                       ...  \n",
       "487     Business         Yes                       Yes  \n",
       "490  Engineering         Yes                       Yes  \n",
       "493  Engineering          No                        No  \n",
       "497      Science          No                       Yes  \n",
       "499  Engineering          No                        No  \n",
       "\n",
       "[256 rows x 9 columns]"
      ]
     },
     "execution_count": 80,
     "metadata": {},
     "output_type": "execute_result"
    }
   ],
   "source": [
    "#for female , the \n",
    "female = student_df[student_df['Gender']=='Female']\n",
    "female"
   ]
  },
  {
   "cell_type": "code",
   "execution_count": 81,
   "id": "099e5b3d-032d-4615-8064-5bef0148684c",
   "metadata": {},
   "outputs": [
    {
     "data": {
      "text/plain": [
       "np.float64(2.9953515625)"
      ]
     },
     "execution_count": 81,
     "metadata": {},
     "output_type": "execute_result"
    }
   ],
   "source": [
    "mean_of_female = female['GPA'].mean()# here  am finding the mean of the GPA after grouping the female gender\n",
    "mean_of_female"
   ]
  },
  {
   "cell_type": "code",
   "execution_count": 82,
   "id": "caded68b-d2e6-4887-a1b2-07ef14ae0f7c",
   "metadata": {},
   "outputs": [
    {
     "data": {
      "text/plain": [
       "np.float64(0.3084994837622549)"
      ]
     },
     "execution_count": 82,
     "metadata": {},
     "output_type": "execute_result"
    }
   ],
   "source": [
    "variance_of_female = female['GPA'].var()# here  am finding the variance of the GPA after grouping the female a lone\n",
    "variance_of_female"
   ]
  },
  {
   "cell_type": "code",
   "execution_count": 83,
   "id": "3bfad726-e075-4a12-96df-2f55e026a289",
   "metadata": {},
   "outputs": [
    {
     "data": {
      "text/html": [
       "<div>\n",
       "<style scoped>\n",
       "    .dataframe tbody tr th:only-of-type {\n",
       "        vertical-align: middle;\n",
       "    }\n",
       "\n",
       "    .dataframe tbody tr th {\n",
       "        vertical-align: top;\n",
       "    }\n",
       "\n",
       "    .dataframe thead th {\n",
       "        text-align: right;\n",
       "    }\n",
       "</style>\n",
       "<table border=\"1\" class=\"dataframe\">\n",
       "  <thead>\n",
       "    <tr style=\"text-align: right;\">\n",
       "      <th></th>\n",
       "      <th>StudentID</th>\n",
       "      <th>Gender</th>\n",
       "      <th>Age</th>\n",
       "      <th>StudyHoursPerWeek</th>\n",
       "      <th>AttendanceRate</th>\n",
       "      <th>GPA</th>\n",
       "      <th>Major</th>\n",
       "      <th>PartTimeJob</th>\n",
       "      <th>ExtraCurricularActivities</th>\n",
       "    </tr>\n",
       "  </thead>\n",
       "  <tbody>\n",
       "    <tr>\n",
       "      <th>0</th>\n",
       "      <td>1</td>\n",
       "      <td>Male</td>\n",
       "      <td>24</td>\n",
       "      <td>37</td>\n",
       "      <td>90.75</td>\n",
       "      <td>3.47</td>\n",
       "      <td>Arts</td>\n",
       "      <td>Yes</td>\n",
       "      <td>No</td>\n",
       "    </tr>\n",
       "    <tr>\n",
       "      <th>2</th>\n",
       "      <td>3</td>\n",
       "      <td>Male</td>\n",
       "      <td>22</td>\n",
       "      <td>10</td>\n",
       "      <td>53.36</td>\n",
       "      <td>2.38</td>\n",
       "      <td>Business</td>\n",
       "      <td>No</td>\n",
       "      <td>No</td>\n",
       "    </tr>\n",
       "    <tr>\n",
       "      <th>3</th>\n",
       "      <td>4</td>\n",
       "      <td>Male</td>\n",
       "      <td>24</td>\n",
       "      <td>10</td>\n",
       "      <td>70.26</td>\n",
       "      <td>3.46</td>\n",
       "      <td>Science</td>\n",
       "      <td>Yes</td>\n",
       "      <td>No</td>\n",
       "    </tr>\n",
       "    <tr>\n",
       "      <th>4</th>\n",
       "      <td>5</td>\n",
       "      <td>Male</td>\n",
       "      <td>18</td>\n",
       "      <td>19</td>\n",
       "      <td>74.87</td>\n",
       "      <td>2.31</td>\n",
       "      <td>Education</td>\n",
       "      <td>Yes</td>\n",
       "      <td>No</td>\n",
       "    </tr>\n",
       "    <tr>\n",
       "      <th>6</th>\n",
       "      <td>7</td>\n",
       "      <td>Male</td>\n",
       "      <td>19</td>\n",
       "      <td>21</td>\n",
       "      <td>55.33</td>\n",
       "      <td>3.93</td>\n",
       "      <td>Arts</td>\n",
       "      <td>No</td>\n",
       "      <td>No</td>\n",
       "    </tr>\n",
       "    <tr>\n",
       "      <th>...</th>\n",
       "      <td>...</td>\n",
       "      <td>...</td>\n",
       "      <td>...</td>\n",
       "      <td>...</td>\n",
       "      <td>...</td>\n",
       "      <td>...</td>\n",
       "      <td>...</td>\n",
       "      <td>...</td>\n",
       "      <td>...</td>\n",
       "    </tr>\n",
       "    <tr>\n",
       "      <th>492</th>\n",
       "      <td>493</td>\n",
       "      <td>Male</td>\n",
       "      <td>18</td>\n",
       "      <td>29</td>\n",
       "      <td>62.71</td>\n",
       "      <td>2.45</td>\n",
       "      <td>Education</td>\n",
       "      <td>Yes</td>\n",
       "      <td>No</td>\n",
       "    </tr>\n",
       "    <tr>\n",
       "      <th>494</th>\n",
       "      <td>495</td>\n",
       "      <td>Male</td>\n",
       "      <td>24</td>\n",
       "      <td>23</td>\n",
       "      <td>67.13</td>\n",
       "      <td>2.11</td>\n",
       "      <td>Business</td>\n",
       "      <td>No</td>\n",
       "      <td>Yes</td>\n",
       "    </tr>\n",
       "    <tr>\n",
       "      <th>495</th>\n",
       "      <td>496</td>\n",
       "      <td>Male</td>\n",
       "      <td>22</td>\n",
       "      <td>37</td>\n",
       "      <td>76.61</td>\n",
       "      <td>2.97</td>\n",
       "      <td>Science</td>\n",
       "      <td>No</td>\n",
       "      <td>No</td>\n",
       "    </tr>\n",
       "    <tr>\n",
       "      <th>496</th>\n",
       "      <td>497</td>\n",
       "      <td>Male</td>\n",
       "      <td>23</td>\n",
       "      <td>11</td>\n",
       "      <td>56.29</td>\n",
       "      <td>3.20</td>\n",
       "      <td>Science</td>\n",
       "      <td>No</td>\n",
       "      <td>No</td>\n",
       "    </tr>\n",
       "    <tr>\n",
       "      <th>498</th>\n",
       "      <td>499</td>\n",
       "      <td>Male</td>\n",
       "      <td>22</td>\n",
       "      <td>18</td>\n",
       "      <td>57.18</td>\n",
       "      <td>2.05</td>\n",
       "      <td>Business</td>\n",
       "      <td>No</td>\n",
       "      <td>Yes</td>\n",
       "    </tr>\n",
       "  </tbody>\n",
       "</table>\n",
       "<p>244 rows × 9 columns</p>\n",
       "</div>"
      ],
      "text/plain": [
       "     StudentID Gender  Age  StudyHoursPerWeek  AttendanceRate   GPA  \\\n",
       "0            1   Male   24                 37           90.75  3.47   \n",
       "2            3   Male   22                 10           53.36  2.38   \n",
       "3            4   Male   24                 10           70.26  3.46   \n",
       "4            5   Male   18                 19           74.87  2.31   \n",
       "6            7   Male   19                 21           55.33  3.93   \n",
       "..         ...    ...  ...                ...             ...   ...   \n",
       "492        493   Male   18                 29           62.71  2.45   \n",
       "494        495   Male   24                 23           67.13  2.11   \n",
       "495        496   Male   22                 37           76.61  2.97   \n",
       "496        497   Male   23                 11           56.29  3.20   \n",
       "498        499   Male   22                 18           57.18  2.05   \n",
       "\n",
       "         Major PartTimeJob ExtraCurricularActivities  \n",
       "0         Arts         Yes                        No  \n",
       "2     Business          No                        No  \n",
       "3      Science         Yes                        No  \n",
       "4    Education         Yes                        No  \n",
       "6         Arts          No                        No  \n",
       "..         ...         ...                       ...  \n",
       "492  Education         Yes                        No  \n",
       "494   Business          No                       Yes  \n",
       "495    Science          No                        No  \n",
       "496    Science          No                        No  \n",
       "498   Business          No                       Yes  \n",
       "\n",
       "[244 rows x 9 columns]"
      ]
     },
     "execution_count": 83,
     "metadata": {},
     "output_type": "execute_result"
    }
   ],
   "source": [
    "#for male\n",
    "Male = student_df[student_df['Gender']=='Male']\n",
    "Male     # here am groupin the male gender together"
   ]
  },
  {
   "cell_type": "code",
   "execution_count": 84,
   "id": "97d0336c-9014-434d-a52a-e8bacad68f0d",
   "metadata": {},
   "outputs": [
    {
     "data": {
      "text/plain": [
       "np.float64(2.9744672131147545)"
      ]
     },
     "execution_count": 84,
     "metadata": {},
     "output_type": "execute_result"
    }
   ],
   "source": [
    "mean_of_male = Male['GPA'].mean()\n",
    "mean_of_male   # here  am finding the mean of the GPA after grouping the male a lone"
   ]
  },
  {
   "cell_type": "code",
   "execution_count": 85,
   "id": "80ab1ec1-a98e-442d-b5eb-d99d3fa6f2ca",
   "metadata": {},
   "outputs": [
    {
     "data": {
      "text/plain": [
       "np.float64(0.3283721429535182)"
      ]
     },
     "execution_count": 85,
     "metadata": {},
     "output_type": "execute_result"
    }
   ],
   "source": [
    "variance_of_Male = Male['GPA'].var()\n",
    "variance_of_Male   # here  am finding the variance of the GPA after grouping the male a lone"
   ]
  },
  {
   "cell_type": "code",
   "execution_count": null,
   "id": "277a5f67-cca6-42c4-8319-046a00481ad5",
   "metadata": {},
   "outputs": [],
   "source": []
  },
  {
   "cell_type": "markdown",
   "id": "c3aa90b7-2987-4177-a991-9372dd3c189d",
   "metadata": {},
   "source": [
    "# (e) Create a visualization that effectively shows if there is a relationship between any two variables of your choice.Your answer must be given in a single pipe. (5 marks)"
   ]
  },
  {
   "cell_type": "code",
   "execution_count": 86,
   "id": "adfbaaf7-0bd2-4144-a572-3328b4df5df5",
   "metadata": {},
   "outputs": [
    {
     "data": {
      "text/html": [
       "<div>\n",
       "<style scoped>\n",
       "    .dataframe tbody tr th:only-of-type {\n",
       "        vertical-align: middle;\n",
       "    }\n",
       "\n",
       "    .dataframe tbody tr th {\n",
       "        vertical-align: top;\n",
       "    }\n",
       "\n",
       "    .dataframe thead th {\n",
       "        text-align: right;\n",
       "    }\n",
       "</style>\n",
       "<table border=\"1\" class=\"dataframe\">\n",
       "  <thead>\n",
       "    <tr style=\"text-align: right;\">\n",
       "      <th></th>\n",
       "      <th>StudyHoursPerWeek</th>\n",
       "      <th>GPA</th>\n",
       "    </tr>\n",
       "  </thead>\n",
       "  <tbody>\n",
       "    <tr>\n",
       "      <th>0</th>\n",
       "      <td>37</td>\n",
       "      <td>3.47</td>\n",
       "    </tr>\n",
       "    <tr>\n",
       "      <th>1</th>\n",
       "      <td>37</td>\n",
       "      <td>2.32</td>\n",
       "    </tr>\n",
       "    <tr>\n",
       "      <th>2</th>\n",
       "      <td>10</td>\n",
       "      <td>2.38</td>\n",
       "    </tr>\n",
       "    <tr>\n",
       "      <th>3</th>\n",
       "      <td>10</td>\n",
       "      <td>3.46</td>\n",
       "    </tr>\n",
       "    <tr>\n",
       "      <th>4</th>\n",
       "      <td>19</td>\n",
       "      <td>2.31</td>\n",
       "    </tr>\n",
       "    <tr>\n",
       "      <th>...</th>\n",
       "      <td>...</td>\n",
       "      <td>...</td>\n",
       "    </tr>\n",
       "    <tr>\n",
       "      <th>495</th>\n",
       "      <td>37</td>\n",
       "      <td>2.97</td>\n",
       "    </tr>\n",
       "    <tr>\n",
       "      <th>496</th>\n",
       "      <td>11</td>\n",
       "      <td>3.20</td>\n",
       "    </tr>\n",
       "    <tr>\n",
       "      <th>497</th>\n",
       "      <td>6</td>\n",
       "      <td>3.20</td>\n",
       "    </tr>\n",
       "    <tr>\n",
       "      <th>498</th>\n",
       "      <td>18</td>\n",
       "      <td>2.05</td>\n",
       "    </tr>\n",
       "    <tr>\n",
       "      <th>499</th>\n",
       "      <td>21</td>\n",
       "      <td>2.64</td>\n",
       "    </tr>\n",
       "  </tbody>\n",
       "</table>\n",
       "<p>500 rows × 2 columns</p>\n",
       "</div>"
      ],
      "text/plain": [
       "     StudyHoursPerWeek   GPA\n",
       "0                   37  3.47\n",
       "1                   37  2.32\n",
       "2                   10  2.38\n",
       "3                   10  3.46\n",
       "4                   19  2.31\n",
       "..                 ...   ...\n",
       "495                 37  2.97\n",
       "496                 11  3.20\n",
       "497                  6  3.20\n",
       "498                 18  2.05\n",
       "499                 21  2.64\n",
       "\n",
       "[500 rows x 2 columns]"
      ]
     },
     "execution_count": 86,
     "metadata": {},
     "output_type": "execute_result"
    }
   ],
   "source": [
    "variables = student_df[['StudyHoursPerWeek','GPA']]\n",
    "variables"
   ]
  },
  {
   "cell_type": "code",
   "execution_count": 87,
   "id": "e7ec79d7-54f6-4e6d-93eb-5942f871dc32",
   "metadata": {},
   "outputs": [
    {
     "data": {
      "text/html": [
       "<div>\n",
       "<style scoped>\n",
       "    .dataframe tbody tr th:only-of-type {\n",
       "        vertical-align: middle;\n",
       "    }\n",
       "\n",
       "    .dataframe tbody tr th {\n",
       "        vertical-align: top;\n",
       "    }\n",
       "\n",
       "    .dataframe thead th {\n",
       "        text-align: right;\n",
       "    }\n",
       "</style>\n",
       "<table border=\"1\" class=\"dataframe\">\n",
       "  <thead>\n",
       "    <tr style=\"text-align: right;\">\n",
       "      <th></th>\n",
       "      <th>StudyHoursPerWeek</th>\n",
       "      <th>GPA</th>\n",
       "    </tr>\n",
       "  </thead>\n",
       "  <tbody>\n",
       "    <tr>\n",
       "      <th>StudyHoursPerWeek</th>\n",
       "      <td>1.0000</td>\n",
       "      <td>0.0917</td>\n",
       "    </tr>\n",
       "    <tr>\n",
       "      <th>GPA</th>\n",
       "      <td>0.0917</td>\n",
       "      <td>1.0000</td>\n",
       "    </tr>\n",
       "  </tbody>\n",
       "</table>\n",
       "</div>"
      ],
      "text/plain": [
       "                   StudyHoursPerWeek     GPA\n",
       "StudyHoursPerWeek             1.0000  0.0917\n",
       "GPA                           0.0917  1.0000"
      ]
     },
     "execution_count": 87,
     "metadata": {},
     "output_type": "execute_result"
    }
   ],
   "source": [
    "#correlation of two variables\n",
    "# I want to see if there is correlation in the variables\n",
    "correlation = variables.corr()\n",
    "correlation"
   ]
  },
  {
   "cell_type": "code",
   "execution_count": 88,
   "id": "deaf1da6-9c0c-454c-85aa-69ddc994a72d",
   "metadata": {},
   "outputs": [],
   "source": [
    "# from the a bove , there is a positive correlation between the two variables"
   ]
  },
  {
   "cell_type": "code",
   "execution_count": 121,
   "id": "b2693b9a-dce5-4f66-801e-9a380cf474cc",
   "metadata": {},
   "outputs": [
    {
     "data": {
      "image/png": "[encoded data removed]",
      "text/plain": [
       "<Figure size 640x480 with 1 Axes>"
      ]
     },
     "metadata": {},
     "output_type": "display_data"
    }
   ],
   "source": [
    "# I decided to visulize the variables using a scatter plot and here its the commands\n",
    "# source from MATPLOTLIB NOTEBOOK\n",
    "variables.plot(kind = 'scatter', x = 'StudyHoursPerWeek', y='GPA')\n",
    "plt.xlabel('Study Hours Per Week')\n",
    "plt.ylabel('The GPA')\n",
    "plt.show()"
   ]
  },
  {
   "cell_type": "code",
   "execution_count": null,
   "id": "f488032a-2f0b-419d-8523-6366f9c2b5a7",
   "metadata": {},
   "outputs": [],
   "source": []
  },
  {
   "cell_type": "markdown",
   "id": "16376e9b-84c0-427c-9296-cc260404e598",
   "metadata": {},
   "source": [
    "# QUESTION 3"
   ]
  },
  {
   "cell_type": "markdown",
   "id": "ea2f29fe-8848-4235-8013-e5c694d91a56",
   "metadata": {},
   "source": [
    "QN 3"
   ]
  },
  {
   "cell_type": "code",
   "execution_count": 90,
   "id": "a720b3c0-5f86-4356-85e6-0e347902e308",
   "metadata": {},
   "outputs": [],
   "source": [
    "#https://www.quora.com/How-can-I-implement-a-linear-regression-model-in-Python-using-scikit-learn"
   ]
  },
  {
   "cell_type": "code",
   "execution_count": 92,
   "id": "065c1cb2-4f2c-40c5-bd82-670b3511c704",
   "metadata": {},
   "outputs": [],
   "source": [
    "#3. Linear regression aims to predict a continuous target variable by finding the best-fit linear relation-\n",
    "#ship between the target and the input features. The algorithm models the relationship using a linear\n",
    "\n",
    "#equation: y = β0 + β1x + ε, where; y is the dependent variable, β’s are the coefficients (weights),\n",
    "#x’s are the independent variables, ε is the error term. The goal is to find the coefficients (β’s) that\n",
    "#minimize the difference between the predicted values and the actual values. This is typically done by\n",
    "#minimizing the Mean Squared Error (MSE):\n",
    "#MSE =1 /n Xni= 1/(y − y)2\n"
   ]
  },
  {
   "cell_type": "markdown",
   "id": "eab98bd7-51b3-4a94-9532-62f09f9e1604",
   "metadata": {},
   "source": [
    "# (a) Briefly describe the steps involved in fitting a linear regression in Python? (2 marks)"
   ]
  },
  {
   "cell_type": "code",
   "execution_count": 93,
   "id": "c5ff27b5-3f69-443f-847f-622df80e8081",
   "metadata": {},
   "outputs": [],
   "source": [
    "# 1st: Import the  neccesary libraries such as numpy,pandas,Scikit_learn\n",
    "# 2nd: Load and process data, this is by loading the dataset and preprocessing it by handling missing values \n",
    "# 3rd: Split data into training and testing sets,This is splitting the preprocessed data using train_test_split\n",
    "# 4th: Create and fit the linear regresssion model,this is by using Linear regression class from scikit_learn and fit using 'fit'method\n",
    "# 5th: Make predictions and evaluate the model,using the predict methods evaluate the model performance"
   ]
  },
  {
   "cell_type": "markdown",
   "id": "f4a8ee5d-2341-4cd6-843f-852d8558177a",
   "metadata": {},
   "source": [
    "# (b) What assumptions does the linear regression take into consideration? (3 marks)"
   ]
  },
  {
   "cell_type": "code",
   "execution_count": 94,
   "id": "aa0815aa-667e-4a72-a4d4-77e6706dbde6",
   "metadata": {},
   "outputs": [],
   "source": [
    "#Linear regression relies majorly on the key assumptions below:\n",
    "\n",
    "# 1.Linearity: The relationship between the dependent and independent variables is linear.\n",
    "# 2.Independence: The residuals are independent of each other.\n",
    "# 3.Homoscedasticity: The variance of residuals is constant across all levels of the independent variables.\n",
    "# 4.Normality of Errors: The residuals follow a normal distribution.\n",
    "# 5.No Multicollinearity: Independent variables are not highly correlated with each other."
   ]
  },
  {
   "cell_type": "markdown",
   "id": "a65afcd6-7d49-4824-b712-eca94619e7f1",
   "metadata": {},
   "source": [
    "# (c) Using the 2020 US Census dataset, train a simple linear regression predicting a continuous tar-get variable using the scikit-learn library. From the output coefficients, generate an equation representing the trained simple linear regression? (3 amrks)"
   ]
  },
  {
   "cell_type": "code",
   "execution_count": 95,
   "id": "200437cd-7eb9-4520-80c7-0e8115162dd8",
   "metadata": {},
   "outputs": [],
   "source": [
    "import numpy as np\n",
    "\n",
    "import pandas as pd\n",
    "\n",
    "import seaborn as sns\n",
    "\n",
    "import matplotlib.pyplot as plt\n",
    "\n",
    "from sklearn import preprocessing, svm\n",
    "\n",
    "from sklearn.model_selection import train_test_split\n",
    "\n",
    "from sklearn.linear_model import LinearRegression\n"
   ]
  },
  {
   "cell_type": "code",
   "execution_count": 96,
   "id": "c90dc754-749e-4294-88dc-eceb293ad3cb",
   "metadata": {},
   "outputs": [
    {
     "name": "stdout",
     "output_type": "stream",
     "text": [
      "   Age     Sex           Marital_status  Number_of_children  Family_size  \\\n",
      "0   30    Male  Married, spouse present                   2            4   \n",
      "1   28  Female  Married, spouse present     1 child present            3   \n",
      "2   34    Male  Married, spouse present     1 child present            3   \n",
      "3   58  Female   Married, spouse absent     1 child present            2   \n",
      "4   39    Male     Never married/single  0 children present            1   \n",
      "\n",
      "                 Education-degree_recode  \\\n",
      "0        Master’s or professional degree   \n",
      "1        Master’s or professional degree   \n",
      "2                      Bachelor’s degree   \n",
      "3  1 or more years of college, no degree   \n",
      "4                      Bachelor’s degree   \n",
      "\n",
      "               Education-degree_recode 2  \\\n",
      "0          Master or professional degree   \n",
      "1          Master or professional degree   \n",
      "2                        Bachelor degree   \n",
      "3  1 or more years of college, no degree   \n",
      "4                        Bachelor degree   \n",
      "\n",
      "                               Education Race_ethnicity-multi_recode  \\\n",
      "0   Master or PhD or professional degree          Non-Hispanic White   \n",
      "1   Master or PhD or professional degree          Non-Hispanic White   \n",
      "2           Associate or Bachelor degree          Non-Hispanic White   \n",
      "3  1 or more years of college, no degree          Non-Hispanic White   \n",
      "4           Associate or Bachelor degree          Non-Hispanic White   \n",
      "\n",
      "   Immigrate-year                          Birthplace_recode  \\\n",
      "0               0  U.S. state, territory, or outlying region   \n",
      "1               0  U.S. state, territory, or outlying region   \n",
      "2               0  U.S. state, territory, or outlying region   \n",
      "3               0  U.S. state, territory, or outlying region   \n",
      "4               0  U.S. state, territory, or outlying region   \n",
      "\n",
      "             Speaks_English Employment_status  Income-wages Region_recode  \\\n",
      "0  Yes, speaks only English          Employed         63000         South   \n",
      "1  Yes, speaks only English          Employed         46000         South   \n",
      "2  Yes, speaks only English          Employed         45000         South   \n",
      "3  Yes, speaks only English          Employed         55000         South   \n",
      "4  Yes, speaks only English          Employed         12000         South   \n",
      "\n",
      "  Region-division_recode       Moved  Year      state  \n",
      "0     East South Central  Same house  2020  Tennessee  \n",
      "1     East South Central  Same house  2020  Tennessee  \n",
      "2     East South Central  Same house  2020  Tennessee  \n",
      "3     East South Central  Same house  2020  Tennessee  \n",
      "4     East South Central  Same house  2020  Tennessee  \n"
     ]
    }
   ],
   "source": [
    "import pandas as pd\n",
    "\n",
    "# Path to the Excel \n",
    "#https://www.quora.com/How-can-I-implement-a-linear-regression-model-in-Python-using-scikit-learn\n",
    "\n",
    "# Read the csv file\n",
    "df = pd.read_csv('wages.csv')\n",
    "\n",
    "# Display the first five rows of the DataFrame\n",
    "print(df.head())\n"
   ]
  },
  {
   "cell_type": "code",
   "execution_count": 98,
   "id": "36d68fcd-4557-458a-bc61-ae1ed84e7a5f",
   "metadata": {},
   "outputs": [
    {
     "data": {
      "text/html": [
       "<div>\n",
       "<style scoped>\n",
       "    .dataframe tbody tr th:only-of-type {\n",
       "        vertical-align: middle;\n",
       "    }\n",
       "\n",
       "    .dataframe tbody tr th {\n",
       "        vertical-align: top;\n",
       "    }\n",
       "\n",
       "    .dataframe thead th {\n",
       "        text-align: right;\n",
       "    }\n",
       "</style>\n",
       "<table border=\"1\" class=\"dataframe\">\n",
       "  <thead>\n",
       "    <tr style=\"text-align: right;\">\n",
       "      <th></th>\n",
       "      <th>Age</th>\n",
       "      <th>Sex</th>\n",
       "      <th>Marital_status</th>\n",
       "      <th>Number_of_children</th>\n",
       "      <th>Family_size</th>\n",
       "      <th>Education-degree_recode</th>\n",
       "      <th>Education-degree_recode 2</th>\n",
       "      <th>Education</th>\n",
       "      <th>Race_ethnicity-multi_recode</th>\n",
       "      <th>Immigrate-year</th>\n",
       "      <th>Birthplace_recode</th>\n",
       "      <th>Speaks_English</th>\n",
       "      <th>Employment_status</th>\n",
       "      <th>Income-wages</th>\n",
       "      <th>Region_recode</th>\n",
       "      <th>Region-division_recode</th>\n",
       "      <th>Moved</th>\n",
       "      <th>Year</th>\n",
       "      <th>state</th>\n",
       "    </tr>\n",
       "  </thead>\n",
       "  <tbody>\n",
       "    <tr>\n",
       "      <th>0</th>\n",
       "      <td>30</td>\n",
       "      <td>Male</td>\n",
       "      <td>Married, spouse present</td>\n",
       "      <td>2</td>\n",
       "      <td>4</td>\n",
       "      <td>Master’s or professional degree</td>\n",
       "      <td>Master or professional degree</td>\n",
       "      <td>Master or PhD or professional degree</td>\n",
       "      <td>Non-Hispanic White</td>\n",
       "      <td>0</td>\n",
       "      <td>U.S. state, territory, or outlying region</td>\n",
       "      <td>Yes, speaks only English</td>\n",
       "      <td>Employed</td>\n",
       "      <td>63000</td>\n",
       "      <td>South</td>\n",
       "      <td>East South Central</td>\n",
       "      <td>Same house</td>\n",
       "      <td>2020</td>\n",
       "      <td>Tennessee</td>\n",
       "    </tr>\n",
       "    <tr>\n",
       "      <th>1</th>\n",
       "      <td>28</td>\n",
       "      <td>Female</td>\n",
       "      <td>Married, spouse present</td>\n",
       "      <td>1 child present</td>\n",
       "      <td>3</td>\n",
       "      <td>Master’s or professional degree</td>\n",
       "      <td>Master or professional degree</td>\n",
       "      <td>Master or PhD or professional degree</td>\n",
       "      <td>Non-Hispanic White</td>\n",
       "      <td>0</td>\n",
       "      <td>U.S. state, territory, or outlying region</td>\n",
       "      <td>Yes, speaks only English</td>\n",
       "      <td>Employed</td>\n",
       "      <td>46000</td>\n",
       "      <td>South</td>\n",
       "      <td>East South Central</td>\n",
       "      <td>Same house</td>\n",
       "      <td>2020</td>\n",
       "      <td>Tennessee</td>\n",
       "    </tr>\n",
       "    <tr>\n",
       "      <th>2</th>\n",
       "      <td>34</td>\n",
       "      <td>Male</td>\n",
       "      <td>Married, spouse present</td>\n",
       "      <td>1 child present</td>\n",
       "      <td>3</td>\n",
       "      <td>Bachelor’s degree</td>\n",
       "      <td>Bachelor degree</td>\n",
       "      <td>Associate or Bachelor degree</td>\n",
       "      <td>Non-Hispanic White</td>\n",
       "      <td>0</td>\n",
       "      <td>U.S. state, territory, or outlying region</td>\n",
       "      <td>Yes, speaks only English</td>\n",
       "      <td>Employed</td>\n",
       "      <td>45000</td>\n",
       "      <td>South</td>\n",
       "      <td>East South Central</td>\n",
       "      <td>Same house</td>\n",
       "      <td>2020</td>\n",
       "      <td>Tennessee</td>\n",
       "    </tr>\n",
       "    <tr>\n",
       "      <th>3</th>\n",
       "      <td>58</td>\n",
       "      <td>Female</td>\n",
       "      <td>Married, spouse absent</td>\n",
       "      <td>1 child present</td>\n",
       "      <td>2</td>\n",
       "      <td>1 or more years of college, no degree</td>\n",
       "      <td>1 or more years of college, no degree</td>\n",
       "      <td>1 or more years of college, no degree</td>\n",
       "      <td>Non-Hispanic White</td>\n",
       "      <td>0</td>\n",
       "      <td>U.S. state, territory, or outlying region</td>\n",
       "      <td>Yes, speaks only English</td>\n",
       "      <td>Employed</td>\n",
       "      <td>55000</td>\n",
       "      <td>South</td>\n",
       "      <td>East South Central</td>\n",
       "      <td>Same house</td>\n",
       "      <td>2020</td>\n",
       "      <td>Tennessee</td>\n",
       "    </tr>\n",
       "    <tr>\n",
       "      <th>4</th>\n",
       "      <td>39</td>\n",
       "      <td>Male</td>\n",
       "      <td>Never married/single</td>\n",
       "      <td>0 children present</td>\n",
       "      <td>1</td>\n",
       "      <td>Bachelor’s degree</td>\n",
       "      <td>Bachelor degree</td>\n",
       "      <td>Associate or Bachelor degree</td>\n",
       "      <td>Non-Hispanic White</td>\n",
       "      <td>0</td>\n",
       "      <td>U.S. state, territory, or outlying region</td>\n",
       "      <td>Yes, speaks only English</td>\n",
       "      <td>Employed</td>\n",
       "      <td>12000</td>\n",
       "      <td>South</td>\n",
       "      <td>East South Central</td>\n",
       "      <td>Same house</td>\n",
       "      <td>2020</td>\n",
       "      <td>Tennessee</td>\n",
       "    </tr>\n",
       "    <tr>\n",
       "      <th>...</th>\n",
       "      <td>...</td>\n",
       "      <td>...</td>\n",
       "      <td>...</td>\n",
       "      <td>...</td>\n",
       "      <td>...</td>\n",
       "      <td>...</td>\n",
       "      <td>...</td>\n",
       "      <td>...</td>\n",
       "      <td>...</td>\n",
       "      <td>...</td>\n",
       "      <td>...</td>\n",
       "      <td>...</td>\n",
       "      <td>...</td>\n",
       "      <td>...</td>\n",
       "      <td>...</td>\n",
       "      <td>...</td>\n",
       "      <td>...</td>\n",
       "      <td>...</td>\n",
       "      <td>...</td>\n",
       "    </tr>\n",
       "    <tr>\n",
       "      <th>4360</th>\n",
       "      <td>67</td>\n",
       "      <td>Male</td>\n",
       "      <td>Married, spouse present</td>\n",
       "      <td>0 children present</td>\n",
       "      <td>2</td>\n",
       "      <td>Bachelor’s degree</td>\n",
       "      <td>Bachelor degree</td>\n",
       "      <td>Associate or Bachelor degree</td>\n",
       "      <td>Non-Hispanic White</td>\n",
       "      <td>0</td>\n",
       "      <td>U.S. state, territory, or outlying region</td>\n",
       "      <td>Yes, speaks only English</td>\n",
       "      <td>Employed</td>\n",
       "      <td>40000</td>\n",
       "      <td>Midwest</td>\n",
       "      <td>West North Central</td>\n",
       "      <td>Same house</td>\n",
       "      <td>2020</td>\n",
       "      <td>North Dakota</td>\n",
       "    </tr>\n",
       "    <tr>\n",
       "      <th>4361</th>\n",
       "      <td>48</td>\n",
       "      <td>Male</td>\n",
       "      <td>Married, spouse present</td>\n",
       "      <td>4</td>\n",
       "      <td>6</td>\n",
       "      <td>Associate’s degree</td>\n",
       "      <td>Associate degree</td>\n",
       "      <td>Associate or Bachelor degree</td>\n",
       "      <td>Non-Hispanic White</td>\n",
       "      <td>0</td>\n",
       "      <td>U.S. state, territory, or outlying region</td>\n",
       "      <td>Yes, speaks only English</td>\n",
       "      <td>Employed</td>\n",
       "      <td>65000</td>\n",
       "      <td>Midwest</td>\n",
       "      <td>West North Central</td>\n",
       "      <td>Same house</td>\n",
       "      <td>2020</td>\n",
       "      <td>North Dakota</td>\n",
       "    </tr>\n",
       "    <tr>\n",
       "      <th>4362</th>\n",
       "      <td>33</td>\n",
       "      <td>Male</td>\n",
       "      <td>Married, spouse absent</td>\n",
       "      <td>0 children present</td>\n",
       "      <td>1</td>\n",
       "      <td>Associate’s degree</td>\n",
       "      <td>Associate degree</td>\n",
       "      <td>Associate or Bachelor degree</td>\n",
       "      <td>Non-Hispanic Black</td>\n",
       "      <td>2017</td>\n",
       "      <td>Africa</td>\n",
       "      <td>Yes, speaks very well</td>\n",
       "      <td>Employed</td>\n",
       "      <td>45000</td>\n",
       "      <td>Midwest</td>\n",
       "      <td>West North Central</td>\n",
       "      <td>Same house</td>\n",
       "      <td>2020</td>\n",
       "      <td>North Dakota</td>\n",
       "    </tr>\n",
       "    <tr>\n",
       "      <th>4363</th>\n",
       "      <td>22</td>\n",
       "      <td>Female</td>\n",
       "      <td>Never married/single</td>\n",
       "      <td>0 children present</td>\n",
       "      <td>2</td>\n",
       "      <td>1 or more years of college, no degree</td>\n",
       "      <td>1 or more years of college, no degree</td>\n",
       "      <td>1 or more years of college, no degree</td>\n",
       "      <td>Non-Hispanic White</td>\n",
       "      <td>0</td>\n",
       "      <td>U.S. state, territory, or outlying region</td>\n",
       "      <td>Yes, speaks only English</td>\n",
       "      <td>Employed</td>\n",
       "      <td>500</td>\n",
       "      <td>Midwest</td>\n",
       "      <td>West North Central</td>\n",
       "      <td>Same house</td>\n",
       "      <td>2020</td>\n",
       "      <td>North Dakota</td>\n",
       "    </tr>\n",
       "    <tr>\n",
       "      <th>4364</th>\n",
       "      <td>49</td>\n",
       "      <td>Female</td>\n",
       "      <td>Married, spouse present</td>\n",
       "      <td>2</td>\n",
       "      <td>4</td>\n",
       "      <td>Master’s or professional degree</td>\n",
       "      <td>Master or professional degree</td>\n",
       "      <td>Master or PhD or professional degree</td>\n",
       "      <td>Non-Hispanic White</td>\n",
       "      <td>0</td>\n",
       "      <td>U.S. state, territory, or outlying region</td>\n",
       "      <td>Yes, speaks only English</td>\n",
       "      <td>Employed</td>\n",
       "      <td>498000</td>\n",
       "      <td>Midwest</td>\n",
       "      <td>West North Central</td>\n",
       "      <td>Same house</td>\n",
       "      <td>2020</td>\n",
       "      <td>North Dakota</td>\n",
       "    </tr>\n",
       "  </tbody>\n",
       "</table>\n",
       "<p>4365 rows × 19 columns</p>\n",
       "</div>"
      ],
      "text/plain": [
       "      Age     Sex           Marital_status  Number_of_children  Family_size  \\\n",
       "0      30    Male  Married, spouse present                   2            4   \n",
       "1      28  Female  Married, spouse present     1 child present            3   \n",
       "2      34    Male  Married, spouse present     1 child present            3   \n",
       "3      58  Female   Married, spouse absent     1 child present            2   \n",
       "4      39    Male     Never married/single  0 children present            1   \n",
       "...   ...     ...                      ...                 ...          ...   \n",
       "4360   67    Male  Married, spouse present  0 children present            2   \n",
       "4361   48    Male  Married, spouse present                   4            6   \n",
       "4362   33    Male   Married, spouse absent  0 children present            1   \n",
       "4363   22  Female     Never married/single  0 children present            2   \n",
       "4364   49  Female  Married, spouse present                   2            4   \n",
       "\n",
       "                    Education-degree_recode  \\\n",
       "0           Master’s or professional degree   \n",
       "1           Master’s or professional degree   \n",
       "2                         Bachelor’s degree   \n",
       "3     1 or more years of college, no degree   \n",
       "4                         Bachelor’s degree   \n",
       "...                                     ...   \n",
       "4360                      Bachelor’s degree   \n",
       "4361                     Associate’s degree   \n",
       "4362                     Associate’s degree   \n",
       "4363  1 or more years of college, no degree   \n",
       "4364        Master’s or professional degree   \n",
       "\n",
       "                  Education-degree_recode 2  \\\n",
       "0             Master or professional degree   \n",
       "1             Master or professional degree   \n",
       "2                           Bachelor degree   \n",
       "3     1 or more years of college, no degree   \n",
       "4                           Bachelor degree   \n",
       "...                                     ...   \n",
       "4360                        Bachelor degree   \n",
       "4361                       Associate degree   \n",
       "4362                       Associate degree   \n",
       "4363  1 or more years of college, no degree   \n",
       "4364          Master or professional degree   \n",
       "\n",
       "                                  Education Race_ethnicity-multi_recode  \\\n",
       "0      Master or PhD or professional degree          Non-Hispanic White   \n",
       "1      Master or PhD or professional degree          Non-Hispanic White   \n",
       "2              Associate or Bachelor degree          Non-Hispanic White   \n",
       "3     1 or more years of college, no degree          Non-Hispanic White   \n",
       "4              Associate or Bachelor degree          Non-Hispanic White   \n",
       "...                                     ...                         ...   \n",
       "4360           Associate or Bachelor degree          Non-Hispanic White   \n",
       "4361           Associate or Bachelor degree          Non-Hispanic White   \n",
       "4362           Associate or Bachelor degree          Non-Hispanic Black   \n",
       "4363  1 or more years of college, no degree          Non-Hispanic White   \n",
       "4364   Master or PhD or professional degree          Non-Hispanic White   \n",
       "\n",
       "      Immigrate-year                          Birthplace_recode  \\\n",
       "0                  0  U.S. state, territory, or outlying region   \n",
       "1                  0  U.S. state, territory, or outlying region   \n",
       "2                  0  U.S. state, territory, or outlying region   \n",
       "3                  0  U.S. state, territory, or outlying region   \n",
       "4                  0  U.S. state, territory, or outlying region   \n",
       "...              ...                                        ...   \n",
       "4360               0  U.S. state, territory, or outlying region   \n",
       "4361               0  U.S. state, territory, or outlying region   \n",
       "4362            2017                                     Africa   \n",
       "4363               0  U.S. state, territory, or outlying region   \n",
       "4364               0  U.S. state, territory, or outlying region   \n",
       "\n",
       "                Speaks_English Employment_status  Income-wages Region_recode  \\\n",
       "0     Yes, speaks only English          Employed         63000         South   \n",
       "1     Yes, speaks only English          Employed         46000         South   \n",
       "2     Yes, speaks only English          Employed         45000         South   \n",
       "3     Yes, speaks only English          Employed         55000         South   \n",
       "4     Yes, speaks only English          Employed         12000         South   \n",
       "...                        ...               ...           ...           ...   \n",
       "4360  Yes, speaks only English          Employed         40000       Midwest   \n",
       "4361  Yes, speaks only English          Employed         65000       Midwest   \n",
       "4362     Yes, speaks very well          Employed         45000       Midwest   \n",
       "4363  Yes, speaks only English          Employed           500       Midwest   \n",
       "4364  Yes, speaks only English          Employed        498000       Midwest   \n",
       "\n",
       "     Region-division_recode       Moved  Year         state  \n",
       "0        East South Central  Same house  2020     Tennessee  \n",
       "1        East South Central  Same house  2020     Tennessee  \n",
       "2        East South Central  Same house  2020     Tennessee  \n",
       "3        East South Central  Same house  2020     Tennessee  \n",
       "4        East South Central  Same house  2020     Tennessee  \n",
       "...                     ...         ...   ...           ...  \n",
       "4360     West North Central  Same house  2020  North Dakota  \n",
       "4361     West North Central  Same house  2020  North Dakota  \n",
       "4362     West North Central  Same house  2020  North Dakota  \n",
       "4363     West North Central  Same house  2020  North Dakota  \n",
       "4364     West North Central  Same house  2020  North Dakota  \n",
       "\n",
       "[4365 rows x 19 columns]"
      ]
     },
     "execution_count": 98,
     "metadata": {},
     "output_type": "execute_result"
    }
   ],
   "source": [
    "wage_df = pd.read_csv('wages.csv')\n",
    "wage_df\n"
   ]
  },
  {
   "cell_type": "code",
   "execution_count": null,
   "id": "6edce074-15d0-41cb-9789-f417d668f534",
   "metadata": {},
   "outputs": [],
   "source": []
  },
  {
   "cell_type": "markdown",
   "id": "1c0fa0ba-6cf3-45ec-a222-ca5014e5f8bb",
   "metadata": {},
   "source": [
    "# (e) Extract and interprete the key outputs from a linear regression model (5 marks)"
   ]
  },
  {
   "cell_type": "code",
   "execution_count": 102,
   "id": "ed4611b6-9feb-4fba-9436-d9b56fd194a5",
   "metadata": {},
   "outputs": [],
   "source": [
    "from sklearn.linear_model import LinearRegression"
   ]
  },
  {
   "cell_type": "code",
   "execution_count": 116,
   "id": "3dbb1bf9-9d0d-4834-a868-e8424bb6b1fe",
   "metadata": {},
   "outputs": [
    {
     "name": "stdout",
     "output_type": "stream",
     "text": [
      "Coefficients: [0.07647059]\n"
     ]
    }
   ],
   "source": [
    "coefficients = model.coef_\n",
    "print(f\"Coefficients: {coefficients}\")\n"
   ]
  },
  {
   "cell_type": "code",
   "execution_count": 117,
   "id": "7b5cb828-6840-49c2-9de8-127eb2eb8f7d",
   "metadata": {},
   "outputs": [
    {
     "name": "stdout",
     "output_type": "stream",
     "text": [
      "Intercept: 1.3867647058823531\n"
     ]
    }
   ],
   "source": [
    "intercept = model.intercept_\n",
    "print(f\"Intercept: {intercept}\")\n"
   ]
  },
  {
   "cell_type": "code",
   "execution_count": 122,
   "id": "7bdeef3f-0601-4414-9f2a-6d4582806f33",
   "metadata": {},
   "outputs": [
    {
     "ename": "NameError",
     "evalue": "name 'X_test' is not defined",
     "output_type": "error",
     "traceback": [
      "\u001b[1;31m---------------------------------------------------------------------------\u001b[0m",
      "\u001b[1;31mNameError\u001b[0m                                 Traceback (most recent call last)",
      "Cell \u001b[1;32mIn[122], line 1\u001b[0m\n\u001b[1;32m----> 1\u001b[0m y_pred \u001b[38;5;241m=\u001b[39m model\u001b[38;5;241m.\u001b[39mpredict(\u001b[43mX_test\u001b[49m)\n",
      "\u001b[1;31mNameError\u001b[0m: name 'X_test' is not defined"
     ]
    }
   ],
   "source": [
    "y_pred = model.predict(X_test)\n"
   ]
  },
  {
   "cell_type": "code",
   "execution_count": 119,
   "id": "4453f2b2-fa95-42de-869d-ea45f136628c",
   "metadata": {},
   "outputs": [
    {
     "ename": "NameError",
     "evalue": "name 'y_test' is not defined",
     "output_type": "error",
     "traceback": [
      "\u001b[1;31m---------------------------------------------------------------------------\u001b[0m",
      "\u001b[1;31mNameError\u001b[0m                                 Traceback (most recent call last)",
      "Cell \u001b[1;32mIn[119], line 3\u001b[0m\n\u001b[0;32m      1\u001b[0m \u001b[38;5;28;01mfrom\u001b[39;00m \u001b[38;5;21;01msklearn\u001b[39;00m\u001b[38;5;21;01m.\u001b[39;00m\u001b[38;5;21;01mmetrics\u001b[39;00m \u001b[38;5;28;01mimport\u001b[39;00m mean_squared_error, r2_score\n\u001b[1;32m----> 3\u001b[0m mse \u001b[38;5;241m=\u001b[39m mean_squared_error(\u001b[43my_test\u001b[49m, y_pred)\n\u001b[0;32m      4\u001b[0m r2 \u001b[38;5;241m=\u001b[39m r2_score(y_test, y_pred)\n\u001b[0;32m      6\u001b[0m \u001b[38;5;28mprint\u001b[39m(\u001b[38;5;124mf\u001b[39m\u001b[38;5;124m\"\u001b[39m\u001b[38;5;124mMean Squared Error (MSE): \u001b[39m\u001b[38;5;132;01m{\u001b[39;00mmse\u001b[38;5;132;01m}\u001b[39;00m\u001b[38;5;124m\"\u001b[39m)\n",
      "\u001b[1;31mNameError\u001b[0m: name 'y_test' is not defined"
     ]
    }
   ],
   "source": [
    "from sklearn.metrics import mean_squared_error, r2_score\n",
    "\n",
    "mse = mean_squared_error(y_test, y_pred)\n",
    "r2 = r2_score(y_test, y_pred)\n",
    "\n",
    "print(f\"Mean Squared Error (MSE): {mse}\")\n",
    "print(f\"R-squared (R²): {r2}\")\n"
   ]
  },
  {
   "cell_type": "code",
   "execution_count": null,
   "id": "ae3a89ba-98c7-4df2-ab07-28da73b3f39d",
   "metadata": {},
   "outputs": [],
   "source": []
  },
  {
   "cell_type": "markdown",
   "id": "f2811f68-504d-4030-b6c7-29d798c30f34",
   "metadata": {},
   "source": [
    "# (f) Plot the linear regression model (5 marks)"
   ]
  },
  {
   "cell_type": "code",
   "execution_count": 107,
   "id": "89bb5ecc-161a-4f51-88d2-f3dd6cb9feec",
   "metadata": {},
   "outputs": [],
   "source": [
    "import sklearn"
   ]
  },
  {
   "cell_type": "code",
   "execution_count": 108,
   "id": "9b38c379-1ca3-4d06-9a53-e8dd996cedaf",
   "metadata": {},
   "outputs": [],
   "source": [
    "from sklearn.linear_model import LinearRegression\n",
    "from sklearn.metrics import mean_squared_error\n",
    "from sklearn.linear_model import LinearRegression\n"
   ]
  },
  {
   "cell_type": "code",
   "execution_count": 109,
   "id": "e22bdb01-276a-4246-b3ad-95db2d12d5f8",
   "metadata": {},
   "outputs": [],
   "source": [
    "import pandas as pd\n",
    "import seaborn as sns\n",
    "from sklearn.model_selection import train_test_split\n"
   ]
  },
  {
   "cell_type": "code",
   "execution_count": 110,
   "id": "e91968c3-4743-4183-b7a4-599c6ad9d77a",
   "metadata": {},
   "outputs": [
    {
     "data": {
      "image/png": "[encoded data removed]",
      "text/plain": [
       "<Figure size 640x480 with 1 Axes>"
      ]
     },
     "metadata": {},
     "output_type": "display_data"
    }
   ],
   "source": [
    "# Import necessary libraries\n",
    "import numpy as np\n",
    "import matplotlib.pyplot as plt\n",
    "from sklearn.linear_model import LinearRegression\n",
    "\n",
    "# Example data\n",
    "# Independent variable (e.g., Age)\n",
    "X = np.array([25, 30, 22, 27]).reshape(-1, 1)  # Reshaped for scikit-learn\n",
    "# Dependent variable (e.g., GPA)\n",
    "y = np.array([3.2, 3.5, 3.0, 3.8])\n",
    "\n",
    "# Initialize and fit the linear regression model\n",
    "model = LinearRegression()\n",
    "model.fit(X, y)\n",
    "\n",
    "# Predict values using the trained model\n",
    "y_pred = model.predict(X)\n",
    "\n",
    "# Plotting the data and the regression line\n",
    "plt.scatter(X, y, color='blue', label='Actual data')  # Plot actual data points\n",
    "plt.plot(X, y_pred, color='red', label='Regression line')  # Plot the regression line\n",
    "plt.title('Linear Regression Model')\n",
    "plt.xlabel('Age')  # Independent variable\n",
    "plt.ylabel('GPA')  # Dependent variable\n",
    "plt.legend()\n",
    "plt.grid(True)\n",
    "plt.show()\n"
   ]
  },
  {
   "cell_type": "markdown",
   "id": "7d687a8c-16e5-4c07-adc6-711d622c6db3",
   "metadata": {},
   "source": [
    "#  BONUS QUESTION "
   ]
  },
  {
   "cell_type": "markdown",
   "id": "9b90df3f-8868-4785-817f-334068d2c7fe",
   "metadata": {},
   "source": [
    "# (a) Multiply a 5x3 matrix by a 3x2 matrix (real matrix product) (Hint: create a 5x3 and 3x2 matrices and peform matrix multiplication)."
   ]
  },
  {
   "cell_type": "code",
   "execution_count": 112,
   "id": "d2b0c089-0f7a-46da-8e91-c966a6d4d0eb",
   "metadata": {},
   "outputs": [
    {
     "name": "stdout",
     "output_type": "stream",
     "text": [
      "[[1 2 3]\n",
      " [4 5 6]\n",
      " [7 8 5]\n",
      " [2 5 3]\n",
      " [1 2 6]]\n"
     ]
    }
   ],
   "source": [
    "matrix1 =np.array([[1,2,3],[4,5,6],[7,8,5],[2,5,3],[1,2,6]]) # HERE i wrote a 5 by 3 matrix\n",
    "print (matrix1)"
   ]
  },
  {
   "cell_type": "code",
   "execution_count": 113,
   "id": "69995433-35f2-46eb-a9da-194905e1de78",
   "metadata": {},
   "outputs": [
    {
     "name": "stdout",
     "output_type": "stream",
     "text": [
      "[[2 3]\n",
      " [3 5]\n",
      " [3 7]]\n"
     ]
    }
   ],
   "source": [
    "matrix2 =np.array([[2,3],[3,5],[3,7]]) # i wrote 3 by two matrix\n",
    "print(matrix2)"
   ]
  },
  {
   "cell_type": "code",
   "execution_count": 114,
   "id": "a2f08325-9849-4386-a9e6-3b6978da2b4d",
   "metadata": {},
   "outputs": [
    {
     "name": "stdout",
     "output_type": "stream",
     "text": [
      "[[17 34]\n",
      " [41 79]\n",
      " [53 96]\n",
      " [28 52]\n",
      " [26 55]]\n"
     ]
    }
   ],
   "source": [
    "result =np.dot(matrix1,matrix2) # from NUMPY NOTEBOOK\n",
    "print(result)                    #HERE, am multiplying matrix 1 and matrix 2\n",
    "                          #np.dot as the code inorder to multipl the matrice# when dealing with matrix mutiplication,we mainly uses"
   ]
  },
  {
   "cell_type": "markdown",
   "id": "9cde4241-822b-4cbf-913b-77e6ad8c274a",
   "metadata": {},
   "source": [
    "# (b) Create a 3x3 identity matrix"
   ]
  },
  {
   "cell_type": "code",
   "execution_count": 123,
   "id": "822e8dba-6f96-4cfe-8b5e-9404197c795e",
   "metadata": {},
   "outputs": [
    {
     "name": "stdout",
     "output_type": "stream",
     "text": [
      "[[1. 0. 0.]\n",
      " [0. 1. 0.]\n",
      " [0. 0. 1.]]\n"
     ]
    }
   ],
   "source": [
    "matrix_identity=np.identity(3) # finding a 3 by 3 matrix using NUMPY NOTEBOOK\n",
    "print(matrix_identity)"
   ]
  },
  {
   "cell_type": "markdown",
   "id": "e7f88a48-30d2-4f8d-858a-2b67dcaf1fc7",
   "metadata": {},
   "source": [
    "# (c) Create a vector with values ranging from 10 to 49)."
   ]
  },
  {
   "cell_type": "code",
   "execution_count": 124,
   "id": "f4a0db5c-c0cf-44e5-b93f-c2af02492e89",
   "metadata": {},
   "outputs": [
    {
     "name": "stdout",
     "output_type": "stream",
     "text": [
      "[10 11 12 13 14 15 16 17 18 19 20 21 22 23 24 25 26 27 28 29 30 31 32 33\n",
      " 34 35 36 37 38 39 40 41 42 43 44 45 46 47 48 49]\n"
     ]
    }
   ],
   "source": [
    "vector =np.arange(10,50) # The range from 10 to 49 is (10,50) because range adds +1 in the ending value\n",
    "print(vector)        ## so when dealing with geting the vector values ranging from 10 to 49 ,we use np.arange and \n",
    "               ## this helps to arrange the values.in brackets, we put the numbers to be arranged like 10,50 \n",
    "                            ## the 50 makes numbers to stop at 49 so 50 is not inclusive. this count from 10 to 49 excluding 50"
   ]
  },
  {
   "cell_type": "markdown",
   "id": "ab9c19ec-411f-4e41-9bbb-813854341c22",
   "metadata": {},
   "source": [
    "# (d) Create a null vector of size 10."
   ]
  },
  {
   "cell_type": "code",
   "execution_count": 125,
   "id": "870b5028-2f23-4d1b-b2f0-e3404d6ae615",
   "metadata": {},
   "outputs": [
    {
     "name": "stdout",
     "output_type": "stream",
     "text": [
      "[0. 0. 0. 0. 0. 0. 0. 0. 0. 0.]\n"
     ]
    }
   ],
   "source": [
    "null_vector =np.zeros(10) # a null vector refers to a vector with values of zeros and size 10 signifies 10 digits\n",
    "print(null_vector)## null means zero(0) and therefore the null vector of 10 we use np.zeros and the value in\n",
    "            ## the  brackets indicates the number of zeros to appear after printing  null vector of size 10 = 10 zeros"
   ]
  },
  {
   "cell_type": "markdown",
   "id": "e5518a17-f847-4967-b88b-233b82b110e3",
   "metadata": {},
   "source": [
    "# (e) Create a 3x3x3 array with random values"
   ]
  },
  {
   "cell_type": "code",
   "execution_count": 126,
   "id": "88d6d5e1-524f-4fe8-97ee-602c87ac7aa2",
   "metadata": {},
   "outputs": [
    {
     "name": "stdout",
     "output_type": "stream",
     "text": [
      "[[[0.59443648 0.19053172 0.89552107]\n",
      "  [0.0337311  0.00502627 0.24753955]\n",
      "  [0.57976926 0.15128522 0.20697227]]\n",
      "\n",
      " [[0.17776128 0.35292566 0.58803991]\n",
      "  [0.1587869  0.32843732 0.35555358]\n",
      "  [0.76633849 0.93696082 0.54722538]]\n",
      "\n",
      " [[0.14066777 0.28226705 0.48031971]\n",
      "  [0.25769492 0.95128218 0.3735314 ]\n",
      "  [0.27608695 0.53045844 0.01453252]]]\n"
     ]
    }
   ],
   "source": [
    "random_array =np.random.rand(3,3,3) # this requires the random value of a matrix\n",
    "print(random_array)"
   ]
  },
  {
   "cell_type": "markdown",
   "id": "035cc64a-3f5a-4132-bc8d-5df027f8daa0",
   "metadata": {},
   "source": [
    "# (f) Create a 5x5 matrix with values 1,2,3,4 just below the diagonaL"
   ]
  },
  {
   "cell_type": "code",
   "execution_count": 127,
   "id": "2a755903-ed74-477d-9916-dfadb89a91fa",
   "metadata": {},
   "outputs": [
    {
     "name": "stdout",
     "output_type": "stream",
     "text": [
      "[[0 0 0 0 0]\n",
      " [1 0 0 0 0]\n",
      " [0 2 0 0 0]\n",
      " [0 0 3 0 0]\n",
      " [0 0 0 4 0]]\n"
     ]
    }
   ],
   "source": [
    "diagonal_array =np.diag(np.arange(1,5),k=-1)# This requires a matrix with diagonal 1.2.3.4\n",
    "print(diagonal_array)"
   ]
  },
  {
   "cell_type": "markdown",
   "id": "971f5ef0-efe2-415f-a32f-6422e4b71e18",
   "metadata": {},
   "source": [
    "# (g) Normalize a 5x5 random matrix"
   ]
  },
  {
   "cell_type": "code",
   "execution_count": 128,
   "id": "b169dc67-2903-43ec-bb51-6525f2218a2d",
   "metadata": {},
   "outputs": [
    {
     "name": "stdout",
     "output_type": "stream",
     "text": [
      "[[0.48130463 0.89630457 0.39605885 0.03358485 0.31183941]\n",
      " [0.99722446 0.45158228 0.35364241 0.39528835 0.09561319]\n",
      " [0.85092108 0.40264807 0.09623099 0.49957213 0.47667105]\n",
      " [0.50138968 0.01202225 0.19958765 0.76249612 0.63681839]\n",
      " [0.22174605 0.23555502 0.61534396 0.79059262 0.31181122]]\n"
     ]
    }
   ],
   "source": [
    "random_array =np.random.rand(5,5) # requires a random array which is a 5 by 5 matrix\n",
    "print(random_array)"
   ]
  },
  {
   "cell_type": "code",
   "execution_count": 129,
   "id": "0ffeeb30-fd5a-473e-8ca1-a3ea8e27bbb0",
   "metadata": {},
   "outputs": [
    {
     "name": "stdout",
     "output_type": "stream",
     "text": [
      "[[0.37865988 0.24013673 0.96036585 0.35083115 0.73033319]\n",
      " [0.89430041 0.98044495 0.13369783 0.72326973 0.52075699]\n",
      " [0.7875274  0.89857823 0.81156786 0.25285395 0.43472533]\n",
      " [0.28380714 0.78834668 0.11202231 0.21636097 0.84820138]\n",
      " [0.02142404 0.71699275 0.92582697 1.         0.49295247]]\n"
     ]
    }
   ],
   "source": [
    "random_array =np.random.rand(5,5)\n",
    "normalized_matrix=(random_array/random_array.max())\n",
    "print(normalized_matrix)"
   ]
  },
  {
   "cell_type": "markdown",
   "id": "ad52b2d6-8cf1-4471-aed7-8093f40c29e6",
   "metadata": {},
   "source": [
    "# (h) How to get the dates of yesterday, today and tomorrow?"
   ]
  },
  {
   "cell_type": "code",
   "execution_count": null,
   "id": "afaef694-17bd-4bb1-8b3c-2b6de5df5dda",
   "metadata": {},
   "outputs": [],
   "source": [
    "from datetime import datetime,timedelta"
   ]
  },
  {
   "cell_type": "code",
   "execution_count": null,
   "id": "6a6b4095-147b-428f-b0b5-dde43e11c79a",
   "metadata": {},
   "outputs": [],
   "source": [
    "today =datetime.now().date() # This gives the date of today\n",
    "print(\"todays date is:\" , today)\n",
    "yesterday =today-timedelta(days=1) # This gives the date of yesterday\n",
    "print(\"yesterdays date was:\" ,yesterday) # This gives the date of tommorrow\n",
    "tommorow =today + timedelta(days =1)\n",
    "print(\"tommorows date will be:\" ,tommorow)"
   ]
  },
  {
   "cell_type": "markdown",
   "id": "f943745d-c782-47b4-8261-ebead118c1de",
   "metadata": {},
   "source": [
    "# (i) Find indices of non-zero elements from [1,2,0,0,4,0]. In all the above questions explain your approach."
   ]
  },
  {
   "cell_type": "code",
   "execution_count": 48,
   "id": "3789c946-46e8-4ea9-ade7-49b7a2090cb0",
   "metadata": {},
   "outputs": [
    {
     "name": "stdout",
     "output_type": "stream",
     "text": [
      "[0 1 4]\n"
     ]
    }
   ],
   "source": [
    "array =np.array([1,2,0,0,4,0]) # This means that the elements at indices which is having o in their position\n",
    "non_zero_indecies =np.nonzero(array)[0]   ### np.zero makes all the values of a 5x5 matrix to bo zeros\n",
    "           ### in the first row only zeros\n",
    "           ### in the second row , 1 appears in the first column          \n",
    "           ### in the third row , 2 appears in the second column \n",
    "          ### in the 4th row , 3 appears in the third column\n",
    "         ### in the 5th row , 4 appears in the 4th column\n",
    "        ### prints results in a 5x5 matrix with 1,2,3,4 inclusive"
   ]
  },
  {
   "cell_type": "code",
   "execution_count": null,
   "id": "6302cb4f-46e1-49db-afc9-3f9232346add",
   "metadata": {},
   "outputs": [],
   "source": []
  }
 ],
 "metadata": {
  "kernelspec": {
   "display_name": "Python 3 (ipykernel)",
   "language": "python",
   "name": "python3"
  },
  "language_info": {
   "codemirror_mode": {
    "name": "ipython",
    "version": 3
   },
   "file_extension": ".py",
   "mimetype": "text/x-python",
   "name": "python",
   "nbconvert_exporter": "python",
   "pygments_lexer": "ipython3",
   "version": "3.12.5"
  }
 },
 "nbformat": 4,
 "nbformat_minor": 5
}
